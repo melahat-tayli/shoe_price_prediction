{
 "cells": [
  {
   "cell_type": "markdown",
   "id": "22016d47",
   "metadata": {},
   "source": [
    "\n",
    "**Members**:  Melahat Tayli, Arjun Singh, Artemio Mendoza-Garcia, Paulo Silva, Wa’il Choudar\n",
    "\n",
    "\n",
    "<hr style=\"height:2pt\">"
   ]
  },
  {
   "cell_type": "markdown",
   "id": "977c9d69",
   "metadata": {},
   "source": [
    "## APENDIX A\n",
    "\n",
    "This notebook contains our initial modeling efforts. Although we ultimately decided to use a different direction in the main notebook, the code shown here may be useful for developing new ideas or improving upon our original work. Additionally, it is important to note that the code in this notebook may have limitations or drawbacks that were not addressed in our final model, and should be carefully evaluated before being used in any further analysis.\n",
    "\n",
    "<a id=\"contents\"></a>\n",
    "\n",
    "## Notebook contents\n",
    "\n",
    "- [**STEP 1: EDA and Data Cleansing**](#part1)\n",
    "\n",
    "\n",
    "- [**STEP 2: Feature Engineering**](#part2)\n",
    "\n",
    "\n",
    "- [**STEP 3: Tokenization and Categorization**](#part3)\n",
    "\n",
    "\n",
    "- [**STEP 4: Train / Validation / Test Split**](#part4)\n",
    "\n",
    "\n",
    "- [**STEP 5: Predicting 'fullPrice'**](#part5)\n",
    "\n",
    "\n",
    "- [**STEP 6: Simple Boosting**](#part6)\n",
    "\n",
    "\n",
    "- [**STEP 7: Predicting color-FullPrice**](#part7)\n",
    "\n",
    "\n",
    "- [**STEP 8: Naive Feature Reduction**](#part8) "
   ]
  },
  {
   "cell_type": "code",
   "execution_count": 1,
   "id": "63fd70f0",
   "metadata": {},
   "outputs": [
    {
     "data": {
      "text/html": [
       "<style>\n",
       "blockquote { background: #AEDE94; }\n",
       "h1 {\n",
       "    padding-top: 25px;\n",
       "    padding-bottom: 25px;\n",
       "    text-align: left;\n",
       "    padding-left: 10px;\n",
       "    background-color: #63ACBE;\n",
       "    color: black;\n",
       "}\n",
       "h2 {\n",
       "    padding-top: 10px;\n",
       "    padding-bottom: 10px;\n",
       "    text-align: left;\n",
       "    padding-left: 5px;\n",
       "    background-color: #EEEEEE;\n",
       "    color: black;\n",
       "}\n",
       "\n",
       "div.exercise {\n",
       "\tbackground-color: #f8b4ab;\n",
       "\tborder-color: #E9967A;\n",
       "\tborder-left: 5px solid #601A4A;\n",
       "\tpadding: 0.5em;\n",
       "}\n",
       "\n",
       "div.exercise-r {\n",
       "\tbackground-color: #ffd0d0;\n",
       "\tborder-color: #E9967A;\n",
       "\tborder-left: 5px solid #601A4A;\n",
       "\tpadding: 0.5em;\n",
       "}\n",
       "\n",
       "\n",
       "span.sub-q {\n",
       "\tfont-weight: bold;\n",
       "}\n",
       "div.theme {\n",
       "\tbackground-color: #63ACBE;\n",
       "\tborder-color: #E9967A;\n",
       "\tborder-left: 5px solid #601A4A;\n",
       "\tpadding: 0.5em;\n",
       "\tfont-size: 18pt;\n",
       "}\n",
       "div.gc {\n",
       "\tbackground-color: #AEDE94;\n",
       "\tborder-color: #E9967A;\n",
       "\tborder-left: 5px solid #601A4A;\n",
       "\tpadding: 0.5em;\n",
       "\tfont-size: 12pt;\n",
       "}\n",
       "p.q1 {\n",
       "    padding-top: 5px;\n",
       "    padding-bottom: 5px;\n",
       "    text-align: left;\n",
       "    padding-left: 5px;\n",
       "    background-color: #EEEEEE;\n",
       "    color: black;\n",
       "}\n",
       "header {\n",
       "   padding-top: 35px;\n",
       "    padding-bottom: 35px;\n",
       "    text-align: left;\n",
       "    padding-left: 10px;\n",
       "    background-color: #DDDDDD;\n",
       "    color: black;\n",
       "}\n",
       "span.emph {\n",
       "\tcolor: #601A4A;\n",
       "\tfont-weight: bold;\n",
       "}\n",
       "\n",
       "</style>\n"
      ],
      "text/plain": [
       "<IPython.core.display.HTML object>"
      ]
     },
     "execution_count": 1,
     "metadata": {},
     "output_type": "execute_result"
    }
   ],
   "source": [
    "# RUN THIS CELL \n",
    "import requests\n",
    "from IPython.core.display import HTML\n",
    "styles = requests.get(\n",
    "    \"https://raw.githubusercontent.com/Harvard-IACS/2021-CS109A/master/\"\n",
    "    \"themes/static/css/cs109.css\"\n",
    ").text\n",
    "HTML(styles)"
   ]
  },
  {
   "cell_type": "markdown",
   "id": "a0e277f6",
   "metadata": {},
   "source": [
    "## Imports"
   ]
  },
  {
   "cell_type": "code",
   "execution_count": 2,
   "id": "2866290b",
   "metadata": {},
   "outputs": [],
   "source": [
    "import matplotlib.pyplot as plt\n",
    "import numpy as np\n",
    "import pandas as pd\n",
    "import seaborn as sns\n",
    "\n",
    "from sklearn.linear_model import LinearRegression, LogisticRegression, LogisticRegressionCV\n",
    "from sklearn.preprocessing import OneHotEncoder\n",
    "from sklearn.ensemble import RandomForestClassifier\n",
    "from sklearn.ensemble import AdaBoostClassifier\n",
    "from sklearn.metrics import accuracy_score, mean_absolute_error, mean_squared_error\n",
    "from sklearn.model_selection import cross_val_score, train_test_split\n",
    "from sklearn.tree import DecisionTreeClassifier\n",
    "from sklearn.utils import resample\n",
    "from sklearn.ensemble import RandomForestRegressor\n",
    "from sklearn.ensemble import AdaBoostRegressor, GradientBoostingRegressor, GradientBoostingClassifier\n",
    "from sklearn.tree import DecisionTreeRegressor\n",
    "from sklearn.feature_extraction.text import CountVectorizer\n",
    "\n",
    "from tqdm import tqdm\n",
    "\n",
    "# XGBoost\n",
    "# !pip install xgboost\n",
    "#!pip install gensim\n",
    "# !pip install python-Levenshtein\n",
    "\n",
    "import gensim\n",
    "from gensim.utils import simple_preprocess\n",
    "from gensim.parsing.preprocessing import remove_stopwords, preprocess_string\n",
    "\n",
    "import xgboost\n",
    "from xgboost import XGBClassifier, XGBRegressor\n",
    "from sklearn.model_selection import RepeatedKFold, cross_val_score\n",
    "\n",
    "\n",
    "# pandas tricks for better display\n",
    "pd.set_option('display.width', 1500)\n",
    "pd.set_option('display.max_columns', 100)\n",
    "\n",
    "import re\n",
    "from datetime import date, datetime\n",
    "\n",
    "%matplotlib inline"
   ]
  },
  {
   "cell_type": "markdown",
   "id": "c7e17eb1",
   "metadata": {},
   "source": [
    "---"
   ]
  },
  {
   "cell_type": "markdown",
   "id": "c42a521b",
   "metadata": {},
   "source": [
    "---"
   ]
  },
  {
   "cell_type": "markdown",
   "id": "b969a370",
   "metadata": {},
   "source": [
    "<a id=\"part1\"></a>\n",
    "## STEP 1: EDA and Data Cleansing"
   ]
  },
  {
   "cell_type": "code",
   "execution_count": 3,
   "id": "d1fb1710",
   "metadata": {},
   "outputs": [
    {
     "name": "stdout",
     "output_type": "stream",
     "text": [
      "<class 'pandas.core.frame.DataFrame'>\n",
      "RangeIndex: 5085 entries, 0 to 5084\n",
      "Data columns (total 45 columns):\n",
      " #   Column                 Non-Null Count  Dtype  \n",
      "---  ------                 --------------  -----  \n",
      " 0   Unnamed: 0             5085 non-null   int64  \n",
      " 1   UID                    5085 non-null   object \n",
      " 2   cloudProdID            5085 non-null   object \n",
      " 3   productID              5085 non-null   object \n",
      " 4   shortID                5085 non-null   object \n",
      " 5   colorNum               5085 non-null   int64  \n",
      " 6   title                  5085 non-null   object \n",
      " 7   subtitle               5085 non-null   object \n",
      " 8   category               5085 non-null   object \n",
      " 9   type                   5085 non-null   object \n",
      " 10  currency               5085 non-null   object \n",
      " 11  fullPrice              5085 non-null   int64  \n",
      " 12  currentPrice           5085 non-null   float64\n",
      " 13  sale                   5085 non-null   bool   \n",
      " 14  TopColor               5085 non-null   object \n",
      " 15  channel                5085 non-null   object \n",
      " 16  short_description      5023 non-null   object \n",
      " 17  rating                 4911 non-null   float64\n",
      " 18  customizable           5085 non-null   bool   \n",
      " 19  ExtendedSizing         5085 non-null   bool   \n",
      " 20  inStock                5085 non-null   bool   \n",
      " 21  ComingSoon             5085 non-null   bool   \n",
      " 22  BestSeller             5085 non-null   bool   \n",
      " 23  Excluded               5085 non-null   bool   \n",
      " 24  GiftCard               5085 non-null   bool   \n",
      " 25  Jersey                 5085 non-null   bool   \n",
      " 26  Launch                 5085 non-null   bool   \n",
      " 27  MemberExclusive        5085 non-null   bool   \n",
      " 28  NBA                    5085 non-null   bool   \n",
      " 29  NFL                    5085 non-null   bool   \n",
      " 30  Sustainable            5085 non-null   bool   \n",
      " 31  label                  5085 non-null   object \n",
      " 32  prebuildId             95 non-null     float64\n",
      " 33  prod_url               5085 non-null   object \n",
      " 34  color-ID               5085 non-null   object \n",
      " 35  color-Description      5085 non-null   object \n",
      " 36  color-FullPrice        5085 non-null   float64\n",
      " 37  color-CurrentPrice     5085 non-null   float64\n",
      " 38  color-Discount         5085 non-null   bool   \n",
      " 39  color-BestSeller       5085 non-null   bool   \n",
      " 40  color-InStock          5085 non-null   bool   \n",
      " 41  color-MemberExclusive  5085 non-null   bool   \n",
      " 42  color-New              5085 non-null   bool   \n",
      " 43  color-Label            5085 non-null   object \n",
      " 44  color-Image-url        5084 non-null   object \n",
      "dtypes: bool(19), float64(5), int64(3), object(18)\n",
      "memory usage: 1.1+ MB\n"
     ]
    }
   ],
   "source": [
    "initial_time=datetime.now()        \n",
    "\n",
    "# Keep Process Baseline = True to process final project data\n",
    "_PROCESS_BASELINE = True\n",
    "_SAVE_TO_DISK = False\n",
    "\n",
    "# Reads scraped data\n",
    "if _PROCESS_BASELINE:\n",
    "    INPUT_FILE  = 'data/nike_30NOV2022_2335.csv'\n",
    "    OUTPUT_FILE = 'data/nike_EDA_05DEC22.csv'\n",
    "\n",
    "else:\n",
    "    INPUT_FILE = 'data/nike_06DEC2022_1708.csv'\n",
    "    OUTPUT_FILE = 'data/nike_EDA_06DEC2022.csv'\n",
    "\n",
    "nike = pd.read_csv(INPUT_FILE)\n",
    "nike.info()"
   ]
  },
  {
   "cell_type": "code",
   "execution_count": 4,
   "id": "32ab32a6",
   "metadata": {},
   "outputs": [
    {
     "data": {
      "text/html": [
       "<div>\n",
       "<style scoped>\n",
       "    .dataframe tbody tr th:only-of-type {\n",
       "        vertical-align: middle;\n",
       "    }\n",
       "\n",
       "    .dataframe tbody tr th {\n",
       "        vertical-align: top;\n",
       "    }\n",
       "\n",
       "    .dataframe thead th {\n",
       "        text-align: right;\n",
       "    }\n",
       "</style>\n",
       "<table border=\"1\" class=\"dataframe\">\n",
       "  <thead>\n",
       "    <tr style=\"text-align: right;\">\n",
       "      <th></th>\n",
       "      <th>Unnamed: 0</th>\n",
       "      <th>colorNum</th>\n",
       "      <th>fullPrice</th>\n",
       "      <th>currentPrice</th>\n",
       "      <th>rating</th>\n",
       "      <th>prebuildId</th>\n",
       "      <th>color-FullPrice</th>\n",
       "      <th>color-CurrentPrice</th>\n",
       "    </tr>\n",
       "  </thead>\n",
       "  <tbody>\n",
       "    <tr>\n",
       "      <th>count</th>\n",
       "      <td>5085.000000</td>\n",
       "      <td>5085.000000</td>\n",
       "      <td>5085.000000</td>\n",
       "      <td>5085.000000</td>\n",
       "      <td>4911.000000</td>\n",
       "      <td>9.500000e+01</td>\n",
       "      <td>5085.000000</td>\n",
       "      <td>5085.000000</td>\n",
       "    </tr>\n",
       "    <tr>\n",
       "      <th>mean</th>\n",
       "      <td>2772.487119</td>\n",
       "      <td>3.490659</td>\n",
       "      <td>106.367355</td>\n",
       "      <td>94.571575</td>\n",
       "      <td>3.726145</td>\n",
       "      <td>5.950898e+09</td>\n",
       "      <td>106.375805</td>\n",
       "      <td>93.984173</td>\n",
       "    </tr>\n",
       "    <tr>\n",
       "      <th>std</th>\n",
       "      <td>1683.567069</td>\n",
       "      <td>3.314632</td>\n",
       "      <td>48.002843</td>\n",
       "      <td>47.013372</td>\n",
       "      <td>1.827047</td>\n",
       "      <td>2.387346e+09</td>\n",
       "      <td>48.071881</td>\n",
       "      <td>46.942730</td>\n",
       "    </tr>\n",
       "    <tr>\n",
       "      <th>min</th>\n",
       "      <td>0.000000</td>\n",
       "      <td>1.000000</td>\n",
       "      <td>25.000000</td>\n",
       "      <td>13.970000</td>\n",
       "      <td>0.000000</td>\n",
       "      <td>1.531389e+09</td>\n",
       "      <td>25.000000</td>\n",
       "      <td>13.970000</td>\n",
       "    </tr>\n",
       "    <tr>\n",
       "      <th>25%</th>\n",
       "      <td>1309.000000</td>\n",
       "      <td>1.000000</td>\n",
       "      <td>70.000000</td>\n",
       "      <td>60.000000</td>\n",
       "      <td>4.000000</td>\n",
       "      <td>4.232192e+09</td>\n",
       "      <td>70.000000</td>\n",
       "      <td>59.970000</td>\n",
       "    </tr>\n",
       "    <tr>\n",
       "      <th>50%</th>\n",
       "      <td>2696.000000</td>\n",
       "      <td>2.000000</td>\n",
       "      <td>100.000000</td>\n",
       "      <td>85.000000</td>\n",
       "      <td>4.600000</td>\n",
       "      <td>5.622280e+09</td>\n",
       "      <td>100.000000</td>\n",
       "      <td>85.000000</td>\n",
       "    </tr>\n",
       "    <tr>\n",
       "      <th>75%</th>\n",
       "      <td>4229.000000</td>\n",
       "      <td>5.000000</td>\n",
       "      <td>140.000000</td>\n",
       "      <td>125.000000</td>\n",
       "      <td>4.800000</td>\n",
       "      <td>7.968067e+09</td>\n",
       "      <td>140.000000</td>\n",
       "      <td>125.000000</td>\n",
       "    </tr>\n",
       "    <tr>\n",
       "      <th>max</th>\n",
       "      <td>5880.000000</td>\n",
       "      <td>32.000000</td>\n",
       "      <td>350.000000</td>\n",
       "      <td>305.000000</td>\n",
       "      <td>5.000000</td>\n",
       "      <td>9.991851e+09</td>\n",
       "      <td>350.000000</td>\n",
       "      <td>305.000000</td>\n",
       "    </tr>\n",
       "  </tbody>\n",
       "</table>\n",
       "</div>"
      ],
      "text/plain": [
       "        Unnamed: 0     colorNum    fullPrice  currentPrice       rating    prebuildId  color-FullPrice  color-CurrentPrice\n",
       "count  5085.000000  5085.000000  5085.000000   5085.000000  4911.000000  9.500000e+01      5085.000000         5085.000000\n",
       "mean   2772.487119     3.490659   106.367355     94.571575     3.726145  5.950898e+09       106.375805           93.984173\n",
       "std    1683.567069     3.314632    48.002843     47.013372     1.827047  2.387346e+09        48.071881           46.942730\n",
       "min       0.000000     1.000000    25.000000     13.970000     0.000000  1.531389e+09        25.000000           13.970000\n",
       "25%    1309.000000     1.000000    70.000000     60.000000     4.000000  4.232192e+09        70.000000           59.970000\n",
       "50%    2696.000000     2.000000   100.000000     85.000000     4.600000  5.622280e+09       100.000000           85.000000\n",
       "75%    4229.000000     5.000000   140.000000    125.000000     4.800000  7.968067e+09       140.000000          125.000000\n",
       "max    5880.000000    32.000000   350.000000    305.000000     5.000000  9.991851e+09       350.000000          305.000000"
      ]
     },
     "execution_count": 4,
     "metadata": {},
     "output_type": "execute_result"
    }
   ],
   "source": [
    "nike.describe()"
   ]
  },
  {
   "cell_type": "code",
   "execution_count": 5,
   "id": "8f05f922",
   "metadata": {},
   "outputs": [
    {
     "data": {
      "text/html": [
       "<div>\n",
       "<style scoped>\n",
       "    .dataframe tbody tr th:only-of-type {\n",
       "        vertical-align: middle;\n",
       "    }\n",
       "\n",
       "    .dataframe tbody tr th {\n",
       "        vertical-align: top;\n",
       "    }\n",
       "\n",
       "    .dataframe thead th {\n",
       "        text-align: right;\n",
       "    }\n",
       "</style>\n",
       "<table border=\"1\" class=\"dataframe\">\n",
       "  <thead>\n",
       "    <tr style=\"text-align: right;\">\n",
       "      <th></th>\n",
       "      <th>Unnamed: 0</th>\n",
       "      <th>UID</th>\n",
       "      <th>cloudProdID</th>\n",
       "      <th>productID</th>\n",
       "      <th>shortID</th>\n",
       "      <th>colorNum</th>\n",
       "      <th>title</th>\n",
       "      <th>subtitle</th>\n",
       "      <th>category</th>\n",
       "      <th>type</th>\n",
       "      <th>currency</th>\n",
       "      <th>fullPrice</th>\n",
       "      <th>currentPrice</th>\n",
       "      <th>sale</th>\n",
       "      <th>TopColor</th>\n",
       "      <th>channel</th>\n",
       "      <th>short_description</th>\n",
       "      <th>rating</th>\n",
       "      <th>customizable</th>\n",
       "      <th>ExtendedSizing</th>\n",
       "      <th>inStock</th>\n",
       "      <th>ComingSoon</th>\n",
       "      <th>BestSeller</th>\n",
       "      <th>Excluded</th>\n",
       "      <th>GiftCard</th>\n",
       "      <th>Jersey</th>\n",
       "      <th>Launch</th>\n",
       "      <th>MemberExclusive</th>\n",
       "      <th>NBA</th>\n",
       "      <th>NFL</th>\n",
       "      <th>Sustainable</th>\n",
       "      <th>label</th>\n",
       "      <th>prebuildId</th>\n",
       "      <th>prod_url</th>\n",
       "      <th>color-ID</th>\n",
       "      <th>color-Description</th>\n",
       "      <th>color-FullPrice</th>\n",
       "      <th>color-CurrentPrice</th>\n",
       "      <th>color-Discount</th>\n",
       "      <th>color-BestSeller</th>\n",
       "      <th>color-InStock</th>\n",
       "      <th>color-MemberExclusive</th>\n",
       "      <th>color-New</th>\n",
       "      <th>color-Label</th>\n",
       "      <th>color-Image-url</th>\n",
       "    </tr>\n",
       "  </thead>\n",
       "  <tbody>\n",
       "    <tr>\n",
       "      <th>0</th>\n",
       "      <td>0</td>\n",
       "      <td>43070a72-0b17-56cf-8335-aef1ff9dd04843070a72-0...</td>\n",
       "      <td>43070a72-0b17-56cf-8335-aef1ff9dd048</td>\n",
       "      <td>e3f1f4d0-b408-4b2f-8135-b49874fa3cbe</td>\n",
       "      <td>b49874fa3cbe</td>\n",
       "      <td>1</td>\n",
       "      <td>Nike SuperRep Cycle</td>\n",
       "      <td>Women's Indoor Cycling Shoes</td>\n",
       "      <td>cycling</td>\n",
       "      <td>FOOTWEAR</td>\n",
       "      <td>USD</td>\n",
       "      <td>120</td>\n",
       "      <td>58.97</td>\n",
       "      <td>True</td>\n",
       "      <td>Black/Anthracite/Habanero Red/Phantom</td>\n",
       "      <td>['NikeApp', 'Nike.com', 'Nike Store Experiences']</td>\n",
       "      <td>The Nike SuperRep Cycle brings a breathable de...</td>\n",
       "      <td>4.3</td>\n",
       "      <td>False</td>\n",
       "      <td>False</td>\n",
       "      <td>True</td>\n",
       "      <td>False</td>\n",
       "      <td>False</td>\n",
       "      <td>False</td>\n",
       "      <td>False</td>\n",
       "      <td>False</td>\n",
       "      <td>False</td>\n",
       "      <td>False</td>\n",
       "      <td>False</td>\n",
       "      <td>False</td>\n",
       "      <td>False</td>\n",
       "      <td>IN_STOCK</td>\n",
       "      <td>NaN</td>\n",
       "      <td>https://www.nike.com/t/superrep-cycle-womens-i...</td>\n",
       "      <td>43070a72-0b17-56cf-8335-aef1ff9dd048</td>\n",
       "      <td>Black/Anthracite/Habanero Red/Phantom</td>\n",
       "      <td>120.0</td>\n",
       "      <td>58.97</td>\n",
       "      <td>True</td>\n",
       "      <td>False</td>\n",
       "      <td>True</td>\n",
       "      <td>False</td>\n",
       "      <td>False</td>\n",
       "      <td>IN_STOCK</td>\n",
       "      <td>https://static.nike.com/a/images/c_limit,w_400...</td>\n",
       "    </tr>\n",
       "    <tr>\n",
       "      <th>1</th>\n",
       "      <td>1</td>\n",
       "      <td>43070a72-0b17-56cf-8335-aef1ff9dd048b4acd5f7-f...</td>\n",
       "      <td>43070a72-0b17-56cf-8335-aef1ff9dd048</td>\n",
       "      <td>e3f1f4d0-b408-4b2f-8135-b49874fa3cbe</td>\n",
       "      <td>b49874fa3cbe</td>\n",
       "      <td>2</td>\n",
       "      <td>Nike SuperRep Cycle</td>\n",
       "      <td>Women's Indoor Cycling Shoes</td>\n",
       "      <td>cycling</td>\n",
       "      <td>FOOTWEAR</td>\n",
       "      <td>USD</td>\n",
       "      <td>120</td>\n",
       "      <td>58.97</td>\n",
       "      <td>True</td>\n",
       "      <td>Black/Anthracite/Habanero Red/Phantom</td>\n",
       "      <td>['NikeApp', 'Nike.com', 'Nike Store Experiences']</td>\n",
       "      <td>The Nike SuperRep Cycle brings a breathable de...</td>\n",
       "      <td>4.3</td>\n",
       "      <td>False</td>\n",
       "      <td>False</td>\n",
       "      <td>True</td>\n",
       "      <td>False</td>\n",
       "      <td>False</td>\n",
       "      <td>False</td>\n",
       "      <td>False</td>\n",
       "      <td>False</td>\n",
       "      <td>False</td>\n",
       "      <td>False</td>\n",
       "      <td>False</td>\n",
       "      <td>False</td>\n",
       "      <td>False</td>\n",
       "      <td>IN_STOCK</td>\n",
       "      <td>NaN</td>\n",
       "      <td>https://www.nike.com/t/superrep-cycle-womens-i...</td>\n",
       "      <td>b4acd5f7-f71e-51ae-92d4-12af42c6d63f</td>\n",
       "      <td>Archaeo Pink/Metallic Mahogany/Dark Beetroot/L...</td>\n",
       "      <td>120.0</td>\n",
       "      <td>84.97</td>\n",
       "      <td>True</td>\n",
       "      <td>False</td>\n",
       "      <td>True</td>\n",
       "      <td>False</td>\n",
       "      <td>False</td>\n",
       "      <td>IN_STOCK</td>\n",
       "      <td>https://static.nike.com/a/images/c_limit,w_400...</td>\n",
       "    </tr>\n",
       "    <tr>\n",
       "      <th>2</th>\n",
       "      <td>2</td>\n",
       "      <td>43070a72-0b17-56cf-8335-aef1ff9dd0483426a9a3-a...</td>\n",
       "      <td>43070a72-0b17-56cf-8335-aef1ff9dd048</td>\n",
       "      <td>e3f1f4d0-b408-4b2f-8135-b49874fa3cbe</td>\n",
       "      <td>b49874fa3cbe</td>\n",
       "      <td>3</td>\n",
       "      <td>Nike SuperRep Cycle</td>\n",
       "      <td>Women's Indoor Cycling Shoes</td>\n",
       "      <td>cycling</td>\n",
       "      <td>FOOTWEAR</td>\n",
       "      <td>USD</td>\n",
       "      <td>120</td>\n",
       "      <td>58.97</td>\n",
       "      <td>True</td>\n",
       "      <td>Black/Anthracite/Habanero Red/Phantom</td>\n",
       "      <td>['NikeApp', 'Nike.com', 'Nike Store Experiences']</td>\n",
       "      <td>The Nike SuperRep Cycle brings a breathable de...</td>\n",
       "      <td>4.3</td>\n",
       "      <td>False</td>\n",
       "      <td>False</td>\n",
       "      <td>True</td>\n",
       "      <td>False</td>\n",
       "      <td>False</td>\n",
       "      <td>False</td>\n",
       "      <td>False</td>\n",
       "      <td>False</td>\n",
       "      <td>False</td>\n",
       "      <td>False</td>\n",
       "      <td>False</td>\n",
       "      <td>False</td>\n",
       "      <td>False</td>\n",
       "      <td>IN_STOCK</td>\n",
       "      <td>NaN</td>\n",
       "      <td>https://www.nike.com/t/superrep-cycle-womens-i...</td>\n",
       "      <td>3426a9a3-ab9f-5ecd-97ca-f7da1f90b623</td>\n",
       "      <td>White/Black</td>\n",
       "      <td>120.0</td>\n",
       "      <td>84.97</td>\n",
       "      <td>True</td>\n",
       "      <td>False</td>\n",
       "      <td>True</td>\n",
       "      <td>False</td>\n",
       "      <td>False</td>\n",
       "      <td>IN_STOCK</td>\n",
       "      <td>https://static.nike.com/a/images/c_limit,w_400...</td>\n",
       "    </tr>\n",
       "    <tr>\n",
       "      <th>3</th>\n",
       "      <td>3</td>\n",
       "      <td>43070a72-0b17-56cf-8335-aef1ff9dd048777d62b6-d...</td>\n",
       "      <td>43070a72-0b17-56cf-8335-aef1ff9dd048</td>\n",
       "      <td>e3f1f4d0-b408-4b2f-8135-b49874fa3cbe</td>\n",
       "      <td>b49874fa3cbe</td>\n",
       "      <td>4</td>\n",
       "      <td>Nike SuperRep Cycle</td>\n",
       "      <td>Women's Indoor Cycling Shoes</td>\n",
       "      <td>cycling</td>\n",
       "      <td>FOOTWEAR</td>\n",
       "      <td>USD</td>\n",
       "      <td>120</td>\n",
       "      <td>58.97</td>\n",
       "      <td>True</td>\n",
       "      <td>Black/Anthracite/Habanero Red/Phantom</td>\n",
       "      <td>['NikeApp', 'Nike.com', 'Nike Store Experiences']</td>\n",
       "      <td>The Nike SuperRep Cycle brings a breathable de...</td>\n",
       "      <td>4.3</td>\n",
       "      <td>False</td>\n",
       "      <td>False</td>\n",
       "      <td>True</td>\n",
       "      <td>False</td>\n",
       "      <td>False</td>\n",
       "      <td>False</td>\n",
       "      <td>False</td>\n",
       "      <td>False</td>\n",
       "      <td>False</td>\n",
       "      <td>False</td>\n",
       "      <td>False</td>\n",
       "      <td>False</td>\n",
       "      <td>False</td>\n",
       "      <td>IN_STOCK</td>\n",
       "      <td>NaN</td>\n",
       "      <td>https://www.nike.com/t/superrep-cycle-womens-i...</td>\n",
       "      <td>777d62b6-d083-58d1-9d68-a49cebbbee57</td>\n",
       "      <td>Black/Hyper Crimson/Metallic Silver</td>\n",
       "      <td>120.0</td>\n",
       "      <td>58.97</td>\n",
       "      <td>True</td>\n",
       "      <td>False</td>\n",
       "      <td>True</td>\n",
       "      <td>False</td>\n",
       "      <td>False</td>\n",
       "      <td>IN_STOCK</td>\n",
       "      <td>https://static.nike.com/a/images/c_limit,w_400...</td>\n",
       "    </tr>\n",
       "    <tr>\n",
       "      <th>4</th>\n",
       "      <td>4</td>\n",
       "      <td>43070a72-0b17-56cf-8335-aef1ff9dd048ac42be38-8...</td>\n",
       "      <td>43070a72-0b17-56cf-8335-aef1ff9dd048</td>\n",
       "      <td>e3f1f4d0-b408-4b2f-8135-b49874fa3cbe</td>\n",
       "      <td>b49874fa3cbe</td>\n",
       "      <td>5</td>\n",
       "      <td>Nike SuperRep Cycle</td>\n",
       "      <td>Women's Indoor Cycling Shoes</td>\n",
       "      <td>cycling</td>\n",
       "      <td>FOOTWEAR</td>\n",
       "      <td>USD</td>\n",
       "      <td>120</td>\n",
       "      <td>58.97</td>\n",
       "      <td>True</td>\n",
       "      <td>Black/Anthracite/Habanero Red/Phantom</td>\n",
       "      <td>['NikeApp', 'Nike.com', 'Nike Store Experiences']</td>\n",
       "      <td>The Nike SuperRep Cycle brings a breathable de...</td>\n",
       "      <td>4.3</td>\n",
       "      <td>False</td>\n",
       "      <td>False</td>\n",
       "      <td>True</td>\n",
       "      <td>False</td>\n",
       "      <td>False</td>\n",
       "      <td>False</td>\n",
       "      <td>False</td>\n",
       "      <td>False</td>\n",
       "      <td>False</td>\n",
       "      <td>False</td>\n",
       "      <td>False</td>\n",
       "      <td>False</td>\n",
       "      <td>False</td>\n",
       "      <td>IN_STOCK</td>\n",
       "      <td>NaN</td>\n",
       "      <td>https://www.nike.com/t/superrep-cycle-womens-i...</td>\n",
       "      <td>ac42be38-8dce-5d9c-94ec-ff54058cf3e4</td>\n",
       "      <td>White/Black/Chutney/Volt</td>\n",
       "      <td>120.0</td>\n",
       "      <td>72.97</td>\n",
       "      <td>True</td>\n",
       "      <td>False</td>\n",
       "      <td>True</td>\n",
       "      <td>False</td>\n",
       "      <td>False</td>\n",
       "      <td>IN_STOCK</td>\n",
       "      <td>https://static.nike.com/a/images/c_limit,w_400...</td>\n",
       "    </tr>\n",
       "  </tbody>\n",
       "</table>\n",
       "</div>"
      ],
      "text/plain": [
       "   Unnamed: 0                                                UID                           cloudProdID                             productID       shortID  colorNum                title                      subtitle category      type currency  fullPrice  currentPrice  sale                               TopColor                                            channel                                  short_description  rating  customizable  ExtendedSizing  inStock  ComingSoon  BestSeller  Excluded  GiftCard  Jersey  Launch  MemberExclusive    NBA    NFL  Sustainable     label  prebuildId                                           prod_url                              color-ID                                  color-Description  color-FullPrice  color-CurrentPrice  color-Discount  color-BestSeller  color-InStock  color-MemberExclusive  color-New color-Label                                    color-Image-url\n",
       "0           0  43070a72-0b17-56cf-8335-aef1ff9dd04843070a72-0...  43070a72-0b17-56cf-8335-aef1ff9dd048  e3f1f4d0-b408-4b2f-8135-b49874fa3cbe  b49874fa3cbe         1  Nike SuperRep Cycle  Women's Indoor Cycling Shoes  cycling  FOOTWEAR      USD        120         58.97  True  Black/Anthracite/Habanero Red/Phantom  ['NikeApp', 'Nike.com', 'Nike Store Experiences']  The Nike SuperRep Cycle brings a breathable de...     4.3         False           False     True       False       False     False     False   False   False            False  False  False        False  IN_STOCK         NaN  https://www.nike.com/t/superrep-cycle-womens-i...  43070a72-0b17-56cf-8335-aef1ff9dd048              Black/Anthracite/Habanero Red/Phantom            120.0               58.97            True             False           True                  False      False    IN_STOCK  https://static.nike.com/a/images/c_limit,w_400...\n",
       "1           1  43070a72-0b17-56cf-8335-aef1ff9dd048b4acd5f7-f...  43070a72-0b17-56cf-8335-aef1ff9dd048  e3f1f4d0-b408-4b2f-8135-b49874fa3cbe  b49874fa3cbe         2  Nike SuperRep Cycle  Women's Indoor Cycling Shoes  cycling  FOOTWEAR      USD        120         58.97  True  Black/Anthracite/Habanero Red/Phantom  ['NikeApp', 'Nike.com', 'Nike Store Experiences']  The Nike SuperRep Cycle brings a breathable de...     4.3         False           False     True       False       False     False     False   False   False            False  False  False        False  IN_STOCK         NaN  https://www.nike.com/t/superrep-cycle-womens-i...  b4acd5f7-f71e-51ae-92d4-12af42c6d63f  Archaeo Pink/Metallic Mahogany/Dark Beetroot/L...            120.0               84.97            True             False           True                  False      False    IN_STOCK  https://static.nike.com/a/images/c_limit,w_400...\n",
       "2           2  43070a72-0b17-56cf-8335-aef1ff9dd0483426a9a3-a...  43070a72-0b17-56cf-8335-aef1ff9dd048  e3f1f4d0-b408-4b2f-8135-b49874fa3cbe  b49874fa3cbe         3  Nike SuperRep Cycle  Women's Indoor Cycling Shoes  cycling  FOOTWEAR      USD        120         58.97  True  Black/Anthracite/Habanero Red/Phantom  ['NikeApp', 'Nike.com', 'Nike Store Experiences']  The Nike SuperRep Cycle brings a breathable de...     4.3         False           False     True       False       False     False     False   False   False            False  False  False        False  IN_STOCK         NaN  https://www.nike.com/t/superrep-cycle-womens-i...  3426a9a3-ab9f-5ecd-97ca-f7da1f90b623                                        White/Black            120.0               84.97            True             False           True                  False      False    IN_STOCK  https://static.nike.com/a/images/c_limit,w_400...\n",
       "3           3  43070a72-0b17-56cf-8335-aef1ff9dd048777d62b6-d...  43070a72-0b17-56cf-8335-aef1ff9dd048  e3f1f4d0-b408-4b2f-8135-b49874fa3cbe  b49874fa3cbe         4  Nike SuperRep Cycle  Women's Indoor Cycling Shoes  cycling  FOOTWEAR      USD        120         58.97  True  Black/Anthracite/Habanero Red/Phantom  ['NikeApp', 'Nike.com', 'Nike Store Experiences']  The Nike SuperRep Cycle brings a breathable de...     4.3         False           False     True       False       False     False     False   False   False            False  False  False        False  IN_STOCK         NaN  https://www.nike.com/t/superrep-cycle-womens-i...  777d62b6-d083-58d1-9d68-a49cebbbee57                Black/Hyper Crimson/Metallic Silver            120.0               58.97            True             False           True                  False      False    IN_STOCK  https://static.nike.com/a/images/c_limit,w_400...\n",
       "4           4  43070a72-0b17-56cf-8335-aef1ff9dd048ac42be38-8...  43070a72-0b17-56cf-8335-aef1ff9dd048  e3f1f4d0-b408-4b2f-8135-b49874fa3cbe  b49874fa3cbe         5  Nike SuperRep Cycle  Women's Indoor Cycling Shoes  cycling  FOOTWEAR      USD        120         58.97  True  Black/Anthracite/Habanero Red/Phantom  ['NikeApp', 'Nike.com', 'Nike Store Experiences']  The Nike SuperRep Cycle brings a breathable de...     4.3         False           False     True       False       False     False     False   False   False            False  False  False        False  IN_STOCK         NaN  https://www.nike.com/t/superrep-cycle-womens-i...  ac42be38-8dce-5d9c-94ec-ff54058cf3e4                           White/Black/Chutney/Volt            120.0               72.97            True             False           True                  False      False    IN_STOCK  https://static.nike.com/a/images/c_limit,w_400..."
      ]
     },
     "execution_count": 5,
     "metadata": {},
     "output_type": "execute_result"
    }
   ],
   "source": [
    "nike.head()"
   ]
  },
  {
   "cell_type": "markdown",
   "id": "027e9051",
   "metadata": {},
   "source": [
    "### Removes the first rows and drops columns with too many NaNs"
   ]
  },
  {
   "cell_type": "code",
   "execution_count": 6,
   "id": "44d9ed6a",
   "metadata": {},
   "outputs": [],
   "source": [
    "# Removes the first rows and drops column \"prebuild\" as it has too many NaNs\n",
    "df = nike.iloc[:,4:]\n",
    "df.drop('prebuildId', axis=1, inplace=True)"
   ]
  },
  {
   "cell_type": "code",
   "execution_count": 7,
   "id": "0f1289ab",
   "metadata": {},
   "outputs": [
    {
     "name": "stdout",
     "output_type": "stream",
     "text": [
      "total rows:5085: missing descriptions 62 1.22%, missing ratings 174 3.42%\n"
     ]
    }
   ],
   "source": [
    "# How many missing descriptions and ratings?\n",
    "missing_desc = len(df[df['short_description'].isna()]['shortID'])\n",
    "missing_ratings =  len(df[df['rating'].isna()]['shortID'])\n",
    "total_rows = len(df)\n",
    "\n",
    "print(f'total rows:{total_rows}: missing descriptions {missing_desc} {round(missing_desc/total_rows*100,2)}%, missing ratings {missing_ratings} {round(missing_ratings/total_rows*100,2)}%')"
   ]
  },
  {
   "cell_type": "code",
   "execution_count": 8,
   "id": "e3407476",
   "metadata": {},
   "outputs": [
    {
     "name": "stdout",
     "output_type": "stream",
     "text": [
      "number of rows left: 4910\n"
     ]
    }
   ],
   "source": [
    "# This are too few rows, we can drop them\n",
    "df = df.dropna()\n",
    "print(f'number of rows left: {len(df)}')"
   ]
  },
  {
   "cell_type": "markdown",
   "id": "a8d4f7e4",
   "metadata": {},
   "source": [
    "### Encode Subcategory"
   ]
  },
  {
   "cell_type": "code",
   "execution_count": 9,
   "id": "e34ff9e6",
   "metadata": {},
   "outputs": [
    {
     "name": "stdout",
     "output_type": "stream",
     "text": [
      "1023 rows from Women set as woman\n",
      "1499 rows from ^Men set as man\n",
      "1101 rows from Kids set as kid\n",
      "695 rows from Big Kid set as big_kid\n",
      "2 rows from Boy set as boy\n",
      "408 rows from Little Kid set as little_kids\n",
      "404 rows from Baby/Toddler set as baby_toddler\n",
      "25 rows from Infant/Toddler set as infant_toddler\n",
      "7 rows from Unisex set as unisex\n",
      "433 rows from Toddler set as toddler\n",
      "419 rows from Baby set as baby\n",
      "14 rows from Crib set as baby\n"
     ]
    }
   ],
   "source": [
    "# Add a subcategory \n",
    "df['subcategory']='unknown'\n",
    "\n",
    "subcategories = [{'Women':'woman'},{'^Men':'man'},{'Kids':'kid'},\n",
    "                 {'Big Kid':'big_kid'},{'Boy':'boy'},\n",
    "                {'Little Kid':'little_kids'},{'Baby/Toddler':'baby_toddler'},\n",
    "                {'Infant/Toddler':'infant_toddler'},{'Unisex':'unisex'},\n",
    "                {'Toddler':'toddler'},{'Baby':'baby'},{'Crib':'baby'}]\n",
    "\n",
    "\n",
    "for item in subcategories:\n",
    "    \n",
    "    subcategory = list(item.values())[0]\n",
    "    name = list(item.keys())[0]\n",
    "    \n",
    "    count = 0\n",
    "    \n",
    "    for index in df.loc[df['subtitle'].str.contains(name,case=False)].index:\n",
    "        df.loc[index,'subcategory'] = subcategory\n",
    "        count += 1"
   ]
  },
  {
   "cell_type": "markdown",
   "id": "694eb764",
   "metadata": {},
   "source": [
    "---"
   ]
  },
  {
   "cell_type": "markdown",
   "id": "503a1dc9",
   "metadata": {},
   "source": [
    "<a id=\"part2\"></a>\n",
    "## STEP 2: Feature Engineering"
   ]
  },
  {
   "cell_type": "markdown",
   "id": "0c780fc2",
   "metadata": {},
   "source": [
    "### How many unique values do we have?"
   ]
  },
  {
   "cell_type": "code",
   "execution_count": 16,
   "id": "3f03e485",
   "metadata": {},
   "outputs": [
    {
     "data": {
      "text/plain": [
       "title                     903\n",
       "subtitle                  190\n",
       "category                   14\n",
       "type                        1\n",
       "currency                    1\n",
       "fullPrice                  72\n",
       "currentPrice              192\n",
       "sale                        2\n",
       "TopColor                 1199\n",
       "channel                     3\n",
       "short_description        1423\n",
       "rating                     28\n",
       "customizable                1\n",
       "ExtendedSizing              1\n",
       "inStock                     2\n",
       "ComingSoon                  2\n",
       "BestSeller                  2\n",
       "Excluded                    1\n",
       "GiftCard                    1\n",
       "Jersey                      1\n",
       "Launch                      1\n",
       "MemberExclusive             2\n",
       "NBA                         1\n",
       "NFL                         1\n",
       "Sustainable                 2\n",
       "label                       6\n",
       "prod_url                 1640\n",
       "color-ID                 4634\n",
       "color-Description        2960\n",
       "color-FullPrice            78\n",
       "color-CurrentPrice        226\n",
       "color-Discount              2\n",
       "color-BestSeller            2\n",
       "color-InStock               2\n",
       "color-MemberExclusive       2\n",
       "color-New                   2\n",
       "color-Label                 6\n",
       "color-Image-url          4634\n",
       "subcategory                10\n",
       "dtype: int64"
      ]
     },
     "execution_count": 16,
     "metadata": {},
     "output_type": "execute_result"
    }
   ],
   "source": [
    "# How many unique values do we have?\n",
    "df.iloc[:,2:].nunique()"
   ]
  },
  {
   "cell_type": "markdown",
   "id": "38af3298",
   "metadata": {},
   "source": [
    "### We can delete all fields with a single value, because they don't have information\n"
   ]
  },
  {
   "cell_type": "code",
   "execution_count": 17,
   "id": "7307928d",
   "metadata": {},
   "outputs": [],
   "source": [
    "# we can delete all fields with a single value, because they don't have information\n",
    "\n",
    "df.drop([\n",
    "    'type',\n",
    "    'currency',\n",
    "    'customizable',\n",
    "    'ExtendedSizing',\n",
    "    'BestSeller',\n",
    "    'Excluded',\n",
    "    'NFL',\n",
    "    'NBA',\n",
    "    'Launch',\n",
    "    'Jersey',\n",
    "    'GiftCard'\n",
    "],axis=1, inplace=True)"
   ]
  },
  {
   "cell_type": "code",
   "execution_count": 18,
   "id": "baea5a45",
   "metadata": {},
   "outputs": [
    {
     "data": {
      "text/html": [
       "<div>\n",
       "<style scoped>\n",
       "    .dataframe tbody tr th:only-of-type {\n",
       "        vertical-align: middle;\n",
       "    }\n",
       "\n",
       "    .dataframe tbody tr th {\n",
       "        vertical-align: top;\n",
       "    }\n",
       "\n",
       "    .dataframe thead th {\n",
       "        text-align: right;\n",
       "    }\n",
       "</style>\n",
       "<table border=\"1\" class=\"dataframe\">\n",
       "  <thead>\n",
       "    <tr style=\"text-align: right;\">\n",
       "      <th></th>\n",
       "      <th>TopColor</th>\n",
       "      <th>colorNum</th>\n",
       "      <th>color-Description</th>\n",
       "    </tr>\n",
       "  </thead>\n",
       "  <tbody>\n",
       "    <tr>\n",
       "      <th>0</th>\n",
       "      <td>Black/Anthracite/Habanero Red/Phantom</td>\n",
       "      <td>1</td>\n",
       "      <td>Black/Anthracite/Habanero Red/Phantom</td>\n",
       "    </tr>\n",
       "    <tr>\n",
       "      <th>1</th>\n",
       "      <td>Black/Anthracite/Habanero Red/Phantom</td>\n",
       "      <td>2</td>\n",
       "      <td>Archaeo Pink/Metallic Mahogany/Dark Beetroot/L...</td>\n",
       "    </tr>\n",
       "    <tr>\n",
       "      <th>2</th>\n",
       "      <td>Black/Anthracite/Habanero Red/Phantom</td>\n",
       "      <td>3</td>\n",
       "      <td>White/Black</td>\n",
       "    </tr>\n",
       "    <tr>\n",
       "      <th>3</th>\n",
       "      <td>Black/Anthracite/Habanero Red/Phantom</td>\n",
       "      <td>4</td>\n",
       "      <td>Black/Hyper Crimson/Metallic Silver</td>\n",
       "    </tr>\n",
       "    <tr>\n",
       "      <th>4</th>\n",
       "      <td>Black/Anthracite/Habanero Red/Phantom</td>\n",
       "      <td>5</td>\n",
       "      <td>White/Black/Chutney/Volt</td>\n",
       "    </tr>\n",
       "    <tr>\n",
       "      <th>5</th>\n",
       "      <td>Black/Anthracite/Habanero Red/Phantom</td>\n",
       "      <td>6</td>\n",
       "      <td>Green Glow/Infinite Lilac/Laser Orange/Dark Sm...</td>\n",
       "    </tr>\n",
       "    <tr>\n",
       "      <th>6</th>\n",
       "      <td>Black/Volt/Anthracite/White</td>\n",
       "      <td>1</td>\n",
       "      <td>Black/Volt/Anthracite/White</td>\n",
       "    </tr>\n",
       "    <tr>\n",
       "      <th>7</th>\n",
       "      <td>Black/Volt/Anthracite/White</td>\n",
       "      <td>2</td>\n",
       "      <td>Crimson Bliss/Total Orange/Pearl White</td>\n",
       "    </tr>\n",
       "    <tr>\n",
       "      <th>8</th>\n",
       "      <td>Black/Volt/Anthracite/White</td>\n",
       "      <td>3</td>\n",
       "      <td>White/Mint Foam/Laser Blue/Black</td>\n",
       "    </tr>\n",
       "  </tbody>\n",
       "</table>\n",
       "</div>"
      ],
      "text/plain": [
       "                                TopColor  colorNum                                  color-Description\n",
       "0  Black/Anthracite/Habanero Red/Phantom         1              Black/Anthracite/Habanero Red/Phantom\n",
       "1  Black/Anthracite/Habanero Red/Phantom         2  Archaeo Pink/Metallic Mahogany/Dark Beetroot/L...\n",
       "2  Black/Anthracite/Habanero Red/Phantom         3                                        White/Black\n",
       "3  Black/Anthracite/Habanero Red/Phantom         4                Black/Hyper Crimson/Metallic Silver\n",
       "4  Black/Anthracite/Habanero Red/Phantom         5                           White/Black/Chutney/Volt\n",
       "5  Black/Anthracite/Habanero Red/Phantom         6  Green Glow/Infinite Lilac/Laser Orange/Dark Sm...\n",
       "6            Black/Volt/Anthracite/White         1                        Black/Volt/Anthracite/White\n",
       "7            Black/Volt/Anthracite/White         2             Crimson Bliss/Total Orange/Pearl White\n",
       "8            Black/Volt/Anthracite/White         3                   White/Mint Foam/Laser Blue/Black"
      ]
     },
     "execution_count": 18,
     "metadata": {},
     "output_type": "execute_result"
    }
   ],
   "source": [
    "# Also, there are several predictors at the TopColor shows only the first color of the model, we don't need this column\n",
    "df.loc[:10][['TopColor','colorNum','color-Description']]"
   ]
  },
  {
   "cell_type": "code",
   "execution_count": 19,
   "id": "39c709c3",
   "metadata": {},
   "outputs": [],
   "source": [
    "# drop TopColor and URLs\n",
    "# At shoe Level\n",
    "\n",
    "df.drop(['prod_url','color-Image-url'],axis=1, inplace=True)\n",
    "\n",
    "# At Color Level \n",
    "# df.drop(['TopColor','prod_url','color-Image-url'],axis=1, inplace=True)"
   ]
  },
  {
   "cell_type": "markdown",
   "id": "31223e97",
   "metadata": {},
   "source": [
    "### This looks better, no predictors with a single value"
   ]
  },
  {
   "cell_type": "code",
   "execution_count": 20,
   "id": "30bdb102",
   "metadata": {},
   "outputs": [
    {
     "data": {
      "text/plain": [
       "shortID                  1640\n",
       "colorNum                   32\n",
       "title                     903\n",
       "subtitle                  190\n",
       "category                   14\n",
       "fullPrice                  72\n",
       "currentPrice              192\n",
       "sale                        2\n",
       "TopColor                 1199\n",
       "channel                     3\n",
       "short_description        1423\n",
       "rating                     28\n",
       "inStock                     2\n",
       "ComingSoon                  2\n",
       "MemberExclusive             2\n",
       "Sustainable                 2\n",
       "label                       6\n",
       "color-ID                 4634\n",
       "color-Description        2960\n",
       "color-FullPrice            78\n",
       "color-CurrentPrice        226\n",
       "color-Discount              2\n",
       "color-BestSeller            2\n",
       "color-InStock               2\n",
       "color-MemberExclusive       2\n",
       "color-New                   2\n",
       "color-Label                 6\n",
       "subcategory                10\n",
       "dtype: int64"
      ]
     },
     "execution_count": 20,
     "metadata": {},
     "output_type": "execute_result"
    }
   ],
   "source": [
    "# this looks better, no predictors with a single value\n",
    "df.nunique()"
   ]
  },
  {
   "cell_type": "markdown",
   "id": "333ca696",
   "metadata": {},
   "source": [
    "### We have several predictors at the Product Level and also at Color Level. \n",
    "#### Let's analyze if we need both and see if there are discounted shoes with no discount at color level"
   ]
  },
  {
   "cell_type": "code",
   "execution_count": 21,
   "id": "66223e56",
   "metadata": {},
   "outputs": [
    {
     "data": {
      "text/html": [
       "<div>\n",
       "<style scoped>\n",
       "    .dataframe tbody tr th:only-of-type {\n",
       "        vertical-align: middle;\n",
       "    }\n",
       "\n",
       "    .dataframe tbody tr th {\n",
       "        vertical-align: top;\n",
       "    }\n",
       "\n",
       "    .dataframe thead th {\n",
       "        text-align: right;\n",
       "    }\n",
       "</style>\n",
       "<table border=\"1\" class=\"dataframe\">\n",
       "  <thead>\n",
       "    <tr style=\"text-align: right;\">\n",
       "      <th></th>\n",
       "      <th>title</th>\n",
       "      <th>colorNum</th>\n",
       "      <th>fullPrice</th>\n",
       "      <th>sale</th>\n",
       "      <th>color-Discount</th>\n",
       "      <th>color-CurrentPrice</th>\n",
       "    </tr>\n",
       "  </thead>\n",
       "  <tbody>\n",
       "    <tr>\n",
       "      <th>119</th>\n",
       "      <td>Air Jordan 11 CMFT Low</td>\n",
       "      <td>1</td>\n",
       "      <td>130</td>\n",
       "      <td>True</td>\n",
       "      <td>True</td>\n",
       "      <td>110.97</td>\n",
       "    </tr>\n",
       "    <tr>\n",
       "      <th>120</th>\n",
       "      <td>Air Jordan 11 CMFT Low</td>\n",
       "      <td>2</td>\n",
       "      <td>130</td>\n",
       "      <td>True</td>\n",
       "      <td>False</td>\n",
       "      <td>130.00</td>\n",
       "    </tr>\n",
       "    <tr>\n",
       "      <th>121</th>\n",
       "      <td>Air Jordan 11 CMFT Low</td>\n",
       "      <td>3</td>\n",
       "      <td>130</td>\n",
       "      <td>True</td>\n",
       "      <td>False</td>\n",
       "      <td>130.00</td>\n",
       "    </tr>\n",
       "    <tr>\n",
       "      <th>122</th>\n",
       "      <td>Air Jordan 11 CMFT Low</td>\n",
       "      <td>4</td>\n",
       "      <td>130</td>\n",
       "      <td>True</td>\n",
       "      <td>False</td>\n",
       "      <td>130.00</td>\n",
       "    </tr>\n",
       "    <tr>\n",
       "      <th>224</th>\n",
       "      <td>Jordan Max Aura</td>\n",
       "      <td>1</td>\n",
       "      <td>120</td>\n",
       "      <td>True</td>\n",
       "      <td>True</td>\n",
       "      <td>95.97</td>\n",
       "    </tr>\n",
       "    <tr>\n",
       "      <th>...</th>\n",
       "      <td>...</td>\n",
       "      <td>...</td>\n",
       "      <td>...</td>\n",
       "      <td>...</td>\n",
       "      <td>...</td>\n",
       "      <td>...</td>\n",
       "    </tr>\n",
       "    <tr>\n",
       "      <th>4939</th>\n",
       "      <td>Nike Force 1</td>\n",
       "      <td>2</td>\n",
       "      <td>50</td>\n",
       "      <td>True</td>\n",
       "      <td>False</td>\n",
       "      <td>55.00</td>\n",
       "    </tr>\n",
       "    <tr>\n",
       "      <th>4940</th>\n",
       "      <td>Nike Force 1</td>\n",
       "      <td>3</td>\n",
       "      <td>50</td>\n",
       "      <td>True</td>\n",
       "      <td>False</td>\n",
       "      <td>55.00</td>\n",
       "    </tr>\n",
       "    <tr>\n",
       "      <th>4941</th>\n",
       "      <td>Nike Force 1</td>\n",
       "      <td>4</td>\n",
       "      <td>50</td>\n",
       "      <td>True</td>\n",
       "      <td>False</td>\n",
       "      <td>55.00</td>\n",
       "    </tr>\n",
       "    <tr>\n",
       "      <th>4978</th>\n",
       "      <td>Air Max 90 LTR</td>\n",
       "      <td>1</td>\n",
       "      <td>140</td>\n",
       "      <td>True</td>\n",
       "      <td>True</td>\n",
       "      <td>112.97</td>\n",
       "    </tr>\n",
       "    <tr>\n",
       "      <th>4979</th>\n",
       "      <td>Air Max 90 LTR</td>\n",
       "      <td>2</td>\n",
       "      <td>140</td>\n",
       "      <td>True</td>\n",
       "      <td>False</td>\n",
       "      <td>140.00</td>\n",
       "    </tr>\n",
       "  </tbody>\n",
       "</table>\n",
       "<p>1348 rows × 6 columns</p>\n",
       "</div>"
      ],
      "text/plain": [
       "                       title  colorNum  fullPrice  sale  color-Discount  color-CurrentPrice\n",
       "119   Air Jordan 11 CMFT Low         1        130  True            True              110.97\n",
       "120   Air Jordan 11 CMFT Low         2        130  True           False              130.00\n",
       "121   Air Jordan 11 CMFT Low         3        130  True           False              130.00\n",
       "122   Air Jordan 11 CMFT Low         4        130  True           False              130.00\n",
       "224          Jordan Max Aura         1        120  True            True               95.97\n",
       "...                      ...       ...        ...   ...             ...                 ...\n",
       "4939            Nike Force 1         2         50  True           False               55.00\n",
       "4940            Nike Force 1         3         50  True           False               55.00\n",
       "4941            Nike Force 1         4         50  True           False               55.00\n",
       "4978          Air Max 90 LTR         1        140  True            True              112.97\n",
       "4979          Air Max 90 LTR         2        140  True           False              140.00\n",
       "\n",
       "[1348 rows x 6 columns]"
      ]
     },
     "execution_count": 21,
     "metadata": {},
     "output_type": "execute_result"
    }
   ],
   "source": [
    "\n",
    "discounted = df[df['sale']==True]\n",
    "idx = discounted[discounted['color-Discount']==False]['shortID']\n",
    "df[df['shortID'].isin(idx)][['title','colorNum','fullPrice','sale','color-Discount','color-CurrentPrice']]\n"
   ]
  },
  {
   "cell_type": "markdown",
   "id": "33d54dd1",
   "metadata": {},
   "source": [
    "#### Are there Shoes flagged as not discounted, but with discounted at color level?\n"
   ]
  },
  {
   "cell_type": "code",
   "execution_count": 22,
   "id": "cd618a82",
   "metadata": {},
   "outputs": [
    {
     "data": {
      "text/html": [
       "<div>\n",
       "<style scoped>\n",
       "    .dataframe tbody tr th:only-of-type {\n",
       "        vertical-align: middle;\n",
       "    }\n",
       "\n",
       "    .dataframe tbody tr th {\n",
       "        vertical-align: top;\n",
       "    }\n",
       "\n",
       "    .dataframe thead th {\n",
       "        text-align: right;\n",
       "    }\n",
       "</style>\n",
       "<table border=\"1\" class=\"dataframe\">\n",
       "  <thead>\n",
       "    <tr style=\"text-align: right;\">\n",
       "      <th></th>\n",
       "      <th>title</th>\n",
       "      <th>colorNum</th>\n",
       "      <th>fullPrice</th>\n",
       "      <th>sale</th>\n",
       "      <th>color-Discount</th>\n",
       "      <th>color-CurrentPrice</th>\n",
       "    </tr>\n",
       "  </thead>\n",
       "  <tbody>\n",
       "    <tr>\n",
       "      <th>40</th>\n",
       "      <td>Jordan Max Aura 4</td>\n",
       "      <td>1</td>\n",
       "      <td>125</td>\n",
       "      <td>False</td>\n",
       "      <td>False</td>\n",
       "      <td>125.00</td>\n",
       "    </tr>\n",
       "    <tr>\n",
       "      <th>41</th>\n",
       "      <td>Jordan Max Aura 4</td>\n",
       "      <td>2</td>\n",
       "      <td>125</td>\n",
       "      <td>False</td>\n",
       "      <td>False</td>\n",
       "      <td>125.00</td>\n",
       "    </tr>\n",
       "    <tr>\n",
       "      <th>42</th>\n",
       "      <td>Jordan Max Aura 4</td>\n",
       "      <td>3</td>\n",
       "      <td>125</td>\n",
       "      <td>False</td>\n",
       "      <td>True</td>\n",
       "      <td>106.97</td>\n",
       "    </tr>\n",
       "    <tr>\n",
       "      <th>43</th>\n",
       "      <td>Jordan Max Aura 4</td>\n",
       "      <td>4</td>\n",
       "      <td>125</td>\n",
       "      <td>False</td>\n",
       "      <td>False</td>\n",
       "      <td>125.00</td>\n",
       "    </tr>\n",
       "    <tr>\n",
       "      <th>44</th>\n",
       "      <td>Jordan Max Aura 4</td>\n",
       "      <td>5</td>\n",
       "      <td>125</td>\n",
       "      <td>False</td>\n",
       "      <td>True</td>\n",
       "      <td>106.97</td>\n",
       "    </tr>\n",
       "    <tr>\n",
       "      <th>...</th>\n",
       "      <td>...</td>\n",
       "      <td>...</td>\n",
       "      <td>...</td>\n",
       "      <td>...</td>\n",
       "      <td>...</td>\n",
       "      <td>...</td>\n",
       "    </tr>\n",
       "    <tr>\n",
       "      <th>4972</th>\n",
       "      <td>Nike Air Max Axis</td>\n",
       "      <td>2</td>\n",
       "      <td>80</td>\n",
       "      <td>False</td>\n",
       "      <td>True</td>\n",
       "      <td>54.97</td>\n",
       "    </tr>\n",
       "    <tr>\n",
       "      <th>4981</th>\n",
       "      <td>Nike Air Max Thea Mid</td>\n",
       "      <td>2</td>\n",
       "      <td>150</td>\n",
       "      <td>False</td>\n",
       "      <td>True</td>\n",
       "      <td>120.97</td>\n",
       "    </tr>\n",
       "    <tr>\n",
       "      <th>5018</th>\n",
       "      <td>Nike Force 1 Crater Next Nature</td>\n",
       "      <td>1</td>\n",
       "      <td>60</td>\n",
       "      <td>False</td>\n",
       "      <td>False</td>\n",
       "      <td>60.00</td>\n",
       "    </tr>\n",
       "    <tr>\n",
       "      <th>5019</th>\n",
       "      <td>Nike Force 1 Crater Next Nature</td>\n",
       "      <td>2</td>\n",
       "      <td>60</td>\n",
       "      <td>False</td>\n",
       "      <td>True</td>\n",
       "      <td>50.97</td>\n",
       "    </tr>\n",
       "    <tr>\n",
       "      <th>5020</th>\n",
       "      <td>Nike Force 1 Crater Next Nature</td>\n",
       "      <td>3</td>\n",
       "      <td>60</td>\n",
       "      <td>False</td>\n",
       "      <td>False</td>\n",
       "      <td>60.00</td>\n",
       "    </tr>\n",
       "  </tbody>\n",
       "</table>\n",
       "<p>1185 rows × 6 columns</p>\n",
       "</div>"
      ],
      "text/plain": [
       "                                title  colorNum  fullPrice   sale  color-Discount  color-CurrentPrice\n",
       "40                  Jordan Max Aura 4         1        125  False           False              125.00\n",
       "41                  Jordan Max Aura 4         2        125  False           False              125.00\n",
       "42                  Jordan Max Aura 4         3        125  False            True              106.97\n",
       "43                  Jordan Max Aura 4         4        125  False           False              125.00\n",
       "44                  Jordan Max Aura 4         5        125  False            True              106.97\n",
       "...                               ...       ...        ...    ...             ...                 ...\n",
       "4972                Nike Air Max Axis         2         80  False            True               54.97\n",
       "4981            Nike Air Max Thea Mid         2        150  False            True              120.97\n",
       "5018  Nike Force 1 Crater Next Nature         1         60  False           False               60.00\n",
       "5019  Nike Force 1 Crater Next Nature         2         60  False            True               50.97\n",
       "5020  Nike Force 1 Crater Next Nature         3         60  False           False               60.00\n",
       "\n",
       "[1185 rows x 6 columns]"
      ]
     },
     "execution_count": 22,
     "metadata": {},
     "output_type": "execute_result"
    }
   ],
   "source": [
    "discounted = df[df['sale']==False]\n",
    "idx = discounted[discounted['color-Discount']==True]['shortID']\n",
    "df[df['shortID'].isin(idx)][['title','colorNum','fullPrice','sale','color-Discount','color-CurrentPrice']]\n"
   ]
  },
  {
   "cell_type": "markdown",
   "id": "793853d9",
   "metadata": {},
   "source": [
    "#### We can conclude that it is better to drop the sale indicator at the product level and keep the discount indicator at the color level instead, because it has more explanatory power.\n",
    "Similarly, we can drop the fullPrice and currentPrice indicators at the product level and keep them at the color level.\n",
    "\n",
    "By conducting similar analysis, we conclude that the \"label\" predictor is redundant because we already have the \"color-label\" predictor.\n",
    "\n",
    "Similarly, other predictors at the product level that have detailed information at the color level can be dropped."
   ]
  },
  {
   "cell_type": "code",
   "execution_count": 23,
   "id": "c9a9e203",
   "metadata": {},
   "outputs": [],
   "source": [
    "# Before Droping, creating extra flags at color level, for label\n",
    "\n",
    "#lets add label \"JustIn\" and remove color-label\n",
    "df['color-just_in']=False\n",
    "df['color-just_in'] = np.where(df['color-Label'] == 'JUST_IN', True, False)\n",
    "\n",
    "# Add column Sold Out\n",
    "df['color-sold_out'] = False\n",
    "df['color-sold_out'] = np.where(df['color-Label'] == 'SOLD_OUT', True, False)\n",
    "\n",
    "# Add column In Stock\n",
    "df['color-coming_soon'] = False\n",
    "df['color-coming_soon'] = np.where(df['color-Label'] == 'COMING_SOON', True, False)"
   ]
  },
  {
   "cell_type": "code",
   "execution_count": 24,
   "id": "cf0b9fb1",
   "metadata": {},
   "outputs": [],
   "source": [
    "# Droping redundant labels at Shoe Level\n",
    "df.drop(['sale','label','inStock','MemberExclusive','ComingSoon','color-Label'], axis=1, inplace=True)"
   ]
  },
  {
   "cell_type": "markdown",
   "id": "209057cf",
   "metadata": {},
   "source": [
    "#### What about Color description?\n"
   ]
  },
  {
   "cell_type": "code",
   "execution_count": 25,
   "id": "295b8fd3",
   "metadata": {},
   "outputs": [
    {
     "data": {
      "text/plain": [
       "0                   Black/Anthracite/Habanero Red/Phantom\n",
       "1       Archaeo Pink/Metallic Mahogany/Dark Beetroot/L...\n",
       "2                                             White/Black\n",
       "3                     Black/Hyper Crimson/Metallic Silver\n",
       "4                                White/Black/Chutney/Volt\n",
       "                              ...                        \n",
       "5079     Light Madder Root/Crimson Bliss/Cave Stone/White\n",
       "5080                              White/Dark Sulfur/Black\n",
       "5081                      Black/White/Black/Varsity Royal\n",
       "5083                   Black/Gum Light Brown/Orange/White\n",
       "5084    University Blue/Vivid Green/Team Orange/Citron...\n",
       "Name: color-Description, Length: 4910, dtype: object"
      ]
     },
     "execution_count": 25,
     "metadata": {},
     "output_type": "execute_result"
    }
   ],
   "source": [
    "df['color-Description']"
   ]
  },
  {
   "cell_type": "markdown",
   "id": "23add316",
   "metadata": {},
   "source": [
    "#### What about channels? this is a categorical variable, we need to take care of it"
   ]
  },
  {
   "cell_type": "code",
   "execution_count": 26,
   "id": "4ea1a2a7",
   "metadata": {},
   "outputs": [
    {
     "data": {
      "text/plain": [
       "array([\"['NikeApp', 'Nike.com', 'Nike Store Experiences']\",\n",
       "       \"['SNKRS', 'NikeApp', 'Nike.com', 'Nike Store Experiences']\",\n",
       "       \"['Nike.com', 'Nike Store Experiences']\"], dtype=object)"
      ]
     },
     "execution_count": 26,
     "metadata": {},
     "output_type": "execute_result"
    }
   ],
   "source": [
    "df['channel'].unique()"
   ]
  },
  {
   "cell_type": "code",
   "execution_count": 27,
   "id": "5d86c827",
   "metadata": {},
   "outputs": [],
   "source": [
    "# Add channel SNKRS\n",
    "df['channel_SNKRS'] = False\n",
    "df['channel_SNKRS'] = np.where(df['channel'] == \"['SNKRS', 'NikeApp', 'Nike.com', 'Nike Store Experiences']\", True, False)"
   ]
  },
  {
   "cell_type": "code",
   "execution_count": 28,
   "id": "9d9526e8",
   "metadata": {},
   "outputs": [],
   "source": [
    "# Add channel nikeApp\n",
    "df['channel_nikeApp'] = False\n",
    "df['channel_nikeApp'] = np.where(df['channel'] == \"['NikeApp', 'Nike.com', 'Nike Store Experiences']\", True, False)"
   ]
  },
  {
   "cell_type": "code",
   "execution_count": 29,
   "id": "e8e490f8",
   "metadata": {},
   "outputs": [],
   "source": [
    "# And we can delete channel, and the IDs for Product and Color \n",
    "df.drop(['channel'],axis=1, inplace=True)\n",
    "\n",
    "df.drop(['shortID','color-ID'], axis=1,inplace=True)"
   ]
  },
  {
   "cell_type": "markdown",
   "id": "5c1b1155",
   "metadata": {},
   "source": [
    "### Ready to save our base line (before vectorization) to disk!"
   ]
  },
  {
   "cell_type": "code",
   "execution_count": 30,
   "id": "2e571dc6",
   "metadata": {},
   "outputs": [
    {
     "name": "stdout",
     "output_type": "stream",
     "text": [
      "<class 'pandas.core.frame.DataFrame'>\n",
      "Int64Index: 4910 entries, 0 to 5084\n",
      "Data columns (total 24 columns):\n",
      " #   Column                 Non-Null Count  Dtype  \n",
      "---  ------                 --------------  -----  \n",
      " 0   colorNum               4910 non-null   int64  \n",
      " 1   title                  4910 non-null   object \n",
      " 2   subtitle               4910 non-null   object \n",
      " 3   category               4910 non-null   object \n",
      " 4   fullPrice              4910 non-null   int64  \n",
      " 5   currentPrice           4910 non-null   float64\n",
      " 6   TopColor               4910 non-null   object \n",
      " 7   short_description      4910 non-null   object \n",
      " 8   rating                 4910 non-null   float64\n",
      " 9   Sustainable            4910 non-null   bool   \n",
      " 10  color-Description      4910 non-null   object \n",
      " 11  color-FullPrice        4910 non-null   float64\n",
      " 12  color-CurrentPrice     4910 non-null   float64\n",
      " 13  color-Discount         4910 non-null   bool   \n",
      " 14  color-BestSeller       4910 non-null   bool   \n",
      " 15  color-InStock          4910 non-null   bool   \n",
      " 16  color-MemberExclusive  4910 non-null   bool   \n",
      " 17  color-New              4910 non-null   bool   \n",
      " 18  subcategory            4910 non-null   object \n",
      " 19  color-just_in          4910 non-null   bool   \n",
      " 20  color-sold_out         4910 non-null   bool   \n",
      " 21  color-coming_soon      4910 non-null   bool   \n",
      " 22  channel_SNKRS          4910 non-null   bool   \n",
      " 23  channel_nikeApp        4910 non-null   bool   \n",
      "dtypes: bool(11), float64(4), int64(2), object(7)\n",
      "memory usage: 749.8+ KB\n"
     ]
    }
   ],
   "source": [
    "df.info()"
   ]
  },
  {
   "cell_type": "markdown",
   "id": "228e4178",
   "metadata": {},
   "source": [
    "### Backup Data"
   ]
  },
  {
   "cell_type": "code",
   "execution_count": 31,
   "id": "23fe5fd1",
   "metadata": {},
   "outputs": [],
   "source": [
    "df_backup = df.copy()"
   ]
  },
  {
   "cell_type": "markdown",
   "id": "0b1de118",
   "metadata": {},
   "source": [
    "---"
   ]
  },
  {
   "cell_type": "markdown",
   "id": "9024d101",
   "metadata": {},
   "source": [
    "<a id=\"part3\"></a>\n",
    "## STEP 3: Tokenization and Categorization"
   ]
  },
  {
   "cell_type": "markdown",
   "id": "82107738",
   "metadata": {},
   "source": [
    "### Helpful functions for splitting up the data and merging into a dataframe"
   ]
  },
  {
   "cell_type": "code",
   "execution_count": 32,
   "id": "0ea46e63",
   "metadata": {},
   "outputs": [],
   "source": [
    "def encode(column, data):\n",
    "    ohe = OneHotEncoder(sparse=False)\n",
    "    ohe.fit(data[[column]])\n",
    "    new_cols = pd.DataFrame(ohe.transform(data[[column]]), \n",
    "                            columns=ohe.get_feature_names(input_features=[column]),\n",
    "                            index=data.index\n",
    "                           )\n",
    "    data = pd.concat([data, new_cols], axis=1)\n",
    "    return data"
   ]
  },
  {
   "cell_type": "code",
   "execution_count": 33,
   "id": "dafa21c1",
   "metadata": {},
   "outputs": [],
   "source": [
    "def tokenize(column, data):\n",
    "    vect = CountVectorizer(stop_words=\"english\")\n",
    "    vect.fit(data[column])\n",
    "    new_cols = pd.DataFrame(\n",
    "        vect.transform(data[column]).toarray(), \n",
    "        columns=[f\"{column}_{feat}\" for feat in vect.get_feature_names()],\n",
    "        index=data.index\n",
    "    )\n",
    "    data = pd.concat([data, new_cols], axis=1)\n",
    "    return data"
   ]
  },
  {
   "cell_type": "markdown",
   "id": "32ca7d38",
   "metadata": {},
   "source": [
    "### Categorical Encodings"
   ]
  },
  {
   "cell_type": "code",
   "execution_count": 34,
   "id": "ace8e5a3",
   "metadata": {},
   "outputs": [
    {
     "data": {
      "text/plain": [
       "0         cycling\n",
       "1         cycling\n",
       "2         cycling\n",
       "3         cycling\n",
       "4         cycling\n",
       "          ...    \n",
       "5079    lifestyle\n",
       "5080    lifestyle\n",
       "5081    lifestyle\n",
       "5083    lifestyle\n",
       "5084    lifestyle\n",
       "Name: category, Length: 4910, dtype: object"
      ]
     },
     "execution_count": 34,
     "metadata": {},
     "output_type": "execute_result"
    }
   ],
   "source": [
    "df.category"
   ]
  },
  {
   "cell_type": "code",
   "execution_count": 35,
   "id": "7c0ce7b7",
   "metadata": {},
   "outputs": [
    {
     "data": {
      "text/plain": [
       "array(['cycling', 'jordan', 'running', 'golf', 'training', 'tennis',\n",
       "       'football', 'basketball', 'boot', 'baseball', 'soccer', 'hiit',\n",
       "       'volleyball', 'lifestyle'], dtype=object)"
      ]
     },
     "execution_count": 35,
     "metadata": {},
     "output_type": "execute_result"
    }
   ],
   "source": [
    "df.category.unique()"
   ]
  },
  {
   "cell_type": "code",
   "execution_count": 36,
   "id": "e22253e3",
   "metadata": {},
   "outputs": [
    {
     "data": {
      "text/plain": [
       "array(['woman', 'baby', 'man', 'unknown', 'big_kid', 'boy', 'toddler',\n",
       "       'little_kids', 'unisex', 'kid'], dtype=object)"
      ]
     },
     "execution_count": 36,
     "metadata": {},
     "output_type": "execute_result"
    }
   ],
   "source": [
    "df.subcategory.unique()"
   ]
  },
  {
   "cell_type": "code",
   "execution_count": 37,
   "id": "f24e1cfc",
   "metadata": {},
   "outputs": [],
   "source": [
    "df = df_backup.copy()\n",
    "df = encode(\"subcategory\", df)\n",
    "df = encode(\"category\", df)"
   ]
  },
  {
   "cell_type": "markdown",
   "id": "fd386484",
   "metadata": {},
   "source": [
    "### Token Counts"
   ]
  },
  {
   "cell_type": "code",
   "execution_count": 38,
   "id": "064b0f13",
   "metadata": {},
   "outputs": [],
   "source": [
    "df = tokenize(\"title\", df)\n",
    "df = tokenize(\"subtitle\", df)\n",
    "df = tokenize(\"TopColor\", df)\n",
    "df = tokenize(\"short_description\", df)\n",
    "df = tokenize(\"color-Description\", df)"
   ]
  },
  {
   "cell_type": "markdown",
   "id": "2d3e217c",
   "metadata": {},
   "source": [
    "### Larger Feature Space"
   ]
  },
  {
   "cell_type": "code",
   "execution_count": 39,
   "id": "3c126edc",
   "metadata": {},
   "outputs": [
    {
     "name": "stdout",
     "output_type": "stream",
     "text": [
      "<class 'pandas.core.frame.DataFrame'>\n",
      "Int64Index: 4910 entries, 0 to 5084\n",
      "Columns: 6008 entries, colorNum to color-Description_zitron\n",
      "dtypes: bool(11), float64(28), int64(5962), object(7)\n",
      "memory usage: 224.9+ MB\n"
     ]
    }
   ],
   "source": [
    "df.info()"
   ]
  },
  {
   "cell_type": "code",
   "execution_count": 40,
   "id": "0fec3440",
   "metadata": {},
   "outputs": [
    {
     "data": {
      "text/plain": [
       "Index(['colorNum', 'title', 'subtitle', 'category', 'fullPrice', 'currentPrice', 'TopColor', 'short_description', 'rating', 'Sustainable',\n",
       "       ...\n",
       "       'color-Description_whisper', 'color-Description_white', 'color-Description_wild', 'color-Description_wine', 'color-Description_wolf', 'color-Description_worn', 'color-Description_wow', 'color-Description_yellow', 'color-Description_zen', 'color-Description_zitron'], dtype='object', length=6008)"
      ]
     },
     "execution_count": 40,
     "metadata": {},
     "output_type": "execute_result"
    }
   ],
   "source": [
    "df.columns"
   ]
  },
  {
   "cell_type": "markdown",
   "id": "35773474",
   "metadata": {},
   "source": [
    "---"
   ]
  },
  {
   "cell_type": "markdown",
   "id": "bd98c065",
   "metadata": {},
   "source": [
    "<a id=\"part4\"></a>\n",
    "## STEP 4: Train / Validation / Test Split"
   ]
  },
  {
   "cell_type": "markdown",
   "id": "d3df09ab",
   "metadata": {},
   "source": [
    "### Splits"
   ]
  },
  {
   "cell_type": "markdown",
   "id": "7b30741d",
   "metadata": {},
   "source": [
    "80/20 Train/Test split. Similarly 80/20 sub/val split of train."
   ]
  },
  {
   "cell_type": "code",
   "execution_count": 41,
   "id": "f4fc46df",
   "metadata": {},
   "outputs": [],
   "source": [
    "train, test = train_test_split(df, test_size=0.2, random_state=0)\n",
    "sub, val = train_test_split(train, test_size=0.2, random_state=0)"
   ]
  },
  {
   "cell_type": "markdown",
   "id": "92b89c31",
   "metadata": {},
   "source": [
    "### Utility for selecting groups of columns"
   ]
  },
  {
   "cell_type": "code",
   "execution_count": 42,
   "id": "247078eb",
   "metadata": {},
   "outputs": [],
   "source": [
    "def select_text(column, data):\n",
    "    return [col for col in data.columns if f\"{column}_\" == col[:len(column)+1]]"
   ]
  },
  {
   "cell_type": "markdown",
   "id": "77191128",
   "metadata": {},
   "source": [
    "### Groups of Columns"
   ]
  },
  {
   "cell_type": "code",
   "execution_count": 43,
   "id": "7a7199cb",
   "metadata": {},
   "outputs": [],
   "source": [
    "# TopColor doesnt make any sense\n",
    "# We dont want to include ANY pricing information\n",
    "# We dont want to include ANY information collected after the release of the shoe\n",
    "\n",
    "text_cats = [\"title\", \"subtitle\", \"short_description\"]\n",
    "text_cols = [word for cat in text_cats for word in select_text(cat, df)]\n",
    "ctgr_cats = [\"category\", \"subcategory\", \"channel\"]\n",
    "ctgr_cols = [word for cat in ctgr_cats for word in select_text(cat, df)]\n",
    "othr_cols = [\"colorNum\",\"Sustainable\"]\n",
    "\n",
    "subset_cols = text_cols + ctgr_cols + othr_cols"
   ]
  },
  {
   "cell_type": "markdown",
   "id": "024b2bbc",
   "metadata": {},
   "source": [
    "---"
   ]
  },
  {
   "cell_type": "markdown",
   "id": "c59423d0",
   "metadata": {},
   "source": [
    "<a id=\"part5\"></a>\n",
    "## STEP 5: Predicting 'fullPrice'"
   ]
  },
  {
   "cell_type": "markdown",
   "id": "22a53db3",
   "metadata": {},
   "source": [
    "### Baseline Model"
   ]
  },
  {
   "cell_type": "markdown",
   "id": "52a57ba2",
   "metadata": {},
   "source": [
    "#### Utility for visualizing Depth vs MAE/MSE"
   ]
  },
  {
   "cell_type": "code",
   "execution_count": 44,
   "id": "96a138bb",
   "metadata": {},
   "outputs": [],
   "source": [
    "def viz_regression_depth(title):\n",
    "    fig, ax = plt.subplots(1, 2, figsize= (16,5))\n",
    "\n",
    "    fig.suptitle(title)\n",
    "\n",
    "    ax[0].plot(depths, train_mae, \".-\", label=\"sub MAE\")\n",
    "    ax[0].plot(depths, val_mae, \".-\", label=\"val MAE\")\n",
    "    ax[0].set_xlabel(\"Depth\")\n",
    "    ax[0].set_ylabel(\"MAE\")\n",
    "    ax[0].set_title(\"Depth vs MAE\")\n",
    "    ax[0].legend()\n",
    "    ax[0].grid()\n",
    "\n",
    "    ax[1].plot(depths, train_mse, \".-\", label=\"sub MSE\")\n",
    "    ax[1].plot(depths, val_mse, \".-\", label=\"val MSE\")\n",
    "    ax[1].set_xlabel(\"Depth\")\n",
    "    ax[1].set_ylabel(\"MSE\")\n",
    "    ax[1].set_title(\"Depth vs MSE\")\n",
    "    ax[1].legend()\n",
    "    ax[1].grid()"
   ]
  },
  {
   "cell_type": "markdown",
   "id": "46516645",
   "metadata": {},
   "source": [
    "#### Tokens derived from title"
   ]
  },
  {
   "cell_type": "code",
   "execution_count": 45,
   "id": "bad88a85",
   "metadata": {},
   "outputs": [],
   "source": [
    "title_cols = select_text(\"title\", df)"
   ]
  },
  {
   "cell_type": "markdown",
   "id": "bac4fae6",
   "metadata": {},
   "source": [
    "#### DecisionTreeRegressor predicting fullPrice using only title token counts"
   ]
  },
  {
   "cell_type": "code",
   "execution_count": 46,
   "id": "08021f92",
   "metadata": {},
   "outputs": [
    {
     "name": "stderr",
     "output_type": "stream",
     "text": [
      "100%|██████████| 20/20 [00:01<00:00, 11.41it/s]\n"
     ]
    }
   ],
   "source": [
    "train_mae = []\n",
    "train_mse = []\n",
    "val_mae = []\n",
    "val_mse = []\n",
    "\n",
    "depths = list(range(5, 101, 5))\n",
    "\n",
    "for max_depth in tqdm(depths):\n",
    "    rfr = DecisionTreeRegressor(max_depth=max_depth)\n",
    "    rfr.fit(sub[title_cols], sub[\"fullPrice\"])\n",
    "    \n",
    "    x_sub_pred = rfr.predict(sub[title_cols])\n",
    "    x_val_pred = rfr.predict(val[title_cols])\n",
    "    \n",
    "    train_mae.append(mean_absolute_error(x_sub_pred, sub[\"fullPrice\"]))\n",
    "    train_mse.append(mean_squared_error(x_sub_pred, sub[\"fullPrice\"]))\n",
    "    val_mae.append(mean_absolute_error(x_val_pred, val[\"fullPrice\"]))\n",
    "    val_mse.append(mean_squared_error(x_val_pred, val[\"fullPrice\"]))"
   ]
  },
  {
   "cell_type": "code",
   "execution_count": 47,
   "id": "b3022a30",
   "metadata": {},
   "outputs": [
    {
     "data": {
      "image/png": "[encoded data removed]",
      "text/plain": [
       "<Figure size 1152x360 with 2 Axes>"
      ]
     },
     "metadata": {
      "needs_background": "light"
     },
     "output_type": "display_data"
    }
   ],
   "source": [
    "viz_regression_depth(\"Baseline DecisionTreeRegressor\")"
   ]
  },
  {
   "cell_type": "markdown",
   "id": "9471ac97",
   "metadata": {},
   "source": [
    "---"
   ]
  },
  {
   "cell_type": "markdown",
   "id": "4f15e44e",
   "metadata": {},
   "source": [
    "### RandomForest using Title"
   ]
  },
  {
   "cell_type": "markdown",
   "id": "531a4d56",
   "metadata": {},
   "source": [
    "#### Train RandomForestRegressor at various depths on fullPrice using Title"
   ]
  },
  {
   "cell_type": "code",
   "execution_count": 48,
   "id": "77908fe6",
   "metadata": {},
   "outputs": [
    {
     "name": "stderr",
     "output_type": "stream",
     "text": [
      "100%|██████████| 20/20 [01:12<00:00,  3.64s/it]\n"
     ]
    }
   ],
   "source": [
    "train_mae = []\n",
    "train_mse = []\n",
    "val_mae = []\n",
    "val_mse = []\n",
    "\n",
    "depths = list(range(5, 101, 5))\n",
    "\n",
    "for max_depth in tqdm(depths):\n",
    "    rfr = RandomForestRegressor(n_estimators=100, max_depth=max_depth)\n",
    "    rfr.fit(sub[title_cols], sub[\"fullPrice\"])\n",
    "    \n",
    "    x_sub_pred = rfr.predict(sub[title_cols])\n",
    "    x_val_pred = rfr.predict(val[title_cols])\n",
    "    \n",
    "    train_mae.append(mean_absolute_error(x_sub_pred, sub[\"fullPrice\"]))\n",
    "    train_mse.append(mean_squared_error(x_sub_pred, sub[\"fullPrice\"]))\n",
    "    val_mae.append(mean_absolute_error(x_val_pred, val[\"fullPrice\"]))\n",
    "    val_mse.append(mean_squared_error(x_val_pred, val[\"fullPrice\"]))"
   ]
  },
  {
   "cell_type": "markdown",
   "id": "c5f020dd",
   "metadata": {},
   "source": [
    "---"
   ]
  },
  {
   "cell_type": "markdown",
   "id": "751c770d",
   "metadata": {},
   "source": [
    "---"
   ]
  },
  {
   "cell_type": "code",
   "execution_count": 49,
   "id": "349e9b9a",
   "metadata": {},
   "outputs": [
    {
     "data": {
      "image/png": "[encoded data removed]",
      "text/plain": [
       "<Figure size 1152x360 with 2 Axes>"
      ]
     },
     "metadata": {
      "needs_background": "light"
     },
     "output_type": "display_data"
    }
   ],
   "source": [
    "viz_regression_depth(\"RandomForestRegressor: Title vs fullPrice\")"
   ]
  },
  {
   "cell_type": "markdown",
   "id": "980b5009",
   "metadata": {},
   "source": [
    "---"
   ]
  },
  {
   "cell_type": "markdown",
   "id": "c6c22e3f",
   "metadata": {},
   "source": [
    "### RandomForestRegressor using all shoe-level"
   ]
  },
  {
   "cell_type": "code",
   "execution_count": 50,
   "id": "a010badc",
   "metadata": {},
   "outputs": [
    {
     "name": "stderr",
     "output_type": "stream",
     "text": [
      "100%|██████████| 20/20 [14:53<00:00, 44.66s/it]\n"
     ]
    }
   ],
   "source": [
    "train_mae = []\n",
    "train_mse = []\n",
    "val_mae = []\n",
    "val_mse = []\n",
    "\n",
    "depths = list(range(5, 101, 5))\n",
    "\n",
    "for max_depth in tqdm(depths):\n",
    "    rfr = RandomForestRegressor(n_estimators=100, max_depth=max_depth)\n",
    "    rfr.fit(sub[subset_cols], sub[\"fullPrice\"])\n",
    "    \n",
    "    x_sub_pred = rfr.predict(sub[subset_cols])\n",
    "    x_val_pred = rfr.predict(val[subset_cols])\n",
    "    \n",
    "    train_mae.append(mean_absolute_error(x_sub_pred, sub[\"fullPrice\"]))\n",
    "    train_mse.append(mean_squared_error(x_sub_pred, sub[\"fullPrice\"]))\n",
    "    val_mae.append(mean_absolute_error(x_val_pred, val[\"fullPrice\"]))\n",
    "    val_mse.append(mean_squared_error(x_val_pred, val[\"fullPrice\"]))"
   ]
  },
  {
   "cell_type": "code",
   "execution_count": 51,
   "id": "59c1293f",
   "metadata": {},
   "outputs": [
    {
     "data": {
      "image/png": "[encoded data removed]",
      "text/plain": [
       "<Figure size 1152x360 with 2 Axes>"
      ]
     },
     "metadata": {
      "needs_background": "light"
     },
     "output_type": "display_data"
    }
   ],
   "source": [
    "viz_regression_depth(\"RandomForestRegressor: shoe-level vs fullPrice\")"
   ]
  },
  {
   "cell_type": "markdown",
   "id": "a2050fc2",
   "metadata": {},
   "source": [
    "#### Val MAE/MSE levels off at about depth=45. Selecting the best depth and re-training."
   ]
  },
  {
   "cell_type": "code",
   "execution_count": 52,
   "id": "98814672",
   "metadata": {},
   "outputs": [
    {
     "name": "stdout",
     "output_type": "stream",
     "text": [
      "Val MAE: 5.150916323628631\n",
      "Val MSE: 147.94916965723857\n"
     ]
    }
   ],
   "source": [
    "rfr = RandomForestRegressor(n_estimators=100, max_depth=45)\n",
    "rfr.fit(sub[subset_cols], sub.fullPrice)\n",
    "\n",
    "x_sub_pred = rfr.predict(sub[subset_cols])\n",
    "x_val_pred = rfr.predict(val[subset_cols])\n",
    "\n",
    "print(\"Val MAE:\", mean_absolute_error(x_val_pred, val.fullPrice))\n",
    "print(\"Val MSE:\", mean_squared_error(x_val_pred, val.fullPrice))"
   ]
  },
  {
   "cell_type": "code",
   "execution_count": 53,
   "id": "fb571c6c",
   "metadata": {},
   "outputs": [],
   "source": [
    "# fig, ax = plt.subplots(1, 2, figsize= (16,5))\n",
    "\n",
    "# fig.suptitle(\"RandomForestRegressor: All shoe-level vs fullPrice\")\n",
    "\n",
    "# ax[0].plot(depths, train_mae, \".-\", label=\"sub MAE\")\n",
    "# ax[0].plot(depths, val_mae, \".-\", label=\"val MAE\")\n",
    "# ax[0].set_xlabel(\"Depth\")\n",
    "# ax[0].set_ylabel(\"MAE\")\n",
    "# ax[0].set_title(\"Depth vs MAE\")\n",
    "# ax[0].legend()\n",
    "# ax[0].grid()\n",
    "\n",
    "# ax[1].plot(depths, train_mse, \".-\", label=\"sub MSE\")\n",
    "# ax[1].plot(depths, val_mse, \".-\", label=\"val MSE\")\n",
    "# ax[1].set_xlabel(\"Depth\")\n",
    "# ax[1].set_ylabel(\"MSE\")\n",
    "# ax[1].set_title(\"Depth vs MSE\")\n",
    "# ax[1].legend()\n",
    "# ax[1].grid()"
   ]
  },
  {
   "cell_type": "markdown",
   "id": "9421e0e4",
   "metadata": {},
   "source": [
    "---"
   ]
  },
  {
   "cell_type": "markdown",
   "id": "4ecacf57",
   "metadata": {},
   "source": [
    "<a id=\"part6\"></a>\n",
    "## STEP 6: Simple Boosting"
   ]
  },
  {
   "cell_type": "code",
   "execution_count": 54,
   "id": "a2e3d73c",
   "metadata": {},
   "outputs": [],
   "source": [
    "depths = list(range(1, 21))\n",
    "\n",
    "train_mae = []\n",
    "train_mse = []\n",
    "val_mae = []\n",
    "val_mse = []\n",
    "\n",
    "for depth in depths:\n",
    "    difference = sub.fullPrice - x_sub_pred\n",
    "\n",
    "    rfr2 = DecisionTreeRegressor(max_depth=depth)\n",
    "    rfr2.fit(sub[text_cols], difference)\n",
    "\n",
    "    x_sub_pred2 = rfr2.predict(sub[text_cols])\n",
    "    x_val_pred2 = rfr2.predict(val[text_cols])\n",
    "\n",
    "    train_mae.append(mean_absolute_error(x_sub_pred2 + x_sub_pred, sub.fullPrice))\n",
    "    train_mse.append(mean_squared_error(x_sub_pred2 + x_sub_pred, sub.fullPrice))\n",
    "    val_mae.append(mean_absolute_error(x_val_pred2 + x_val_pred, val.fullPrice))\n",
    "    val_mse.append(mean_squared_error(x_val_pred2 + x_val_pred, val.fullPrice))"
   ]
  },
  {
   "cell_type": "code",
   "execution_count": 55,
   "id": "465f5292",
   "metadata": {},
   "outputs": [
    {
     "data": {
      "image/png": "[encoded data removed]",
      "text/plain": [
       "<Figure size 1152x360 with 2 Axes>"
      ]
     },
     "metadata": {
      "needs_background": "light"
     },
     "output_type": "display_data"
    }
   ],
   "source": [
    "fig, ax = plt.subplots(1, 2, figsize= (16,5))\n",
    "\n",
    "fig.suptitle(\"2nd Fitted Tree\")\n",
    "\n",
    "ax[0].plot(depths, train_mae, \".-\", label=\"sub MAE\")\n",
    "ax[0].plot(depths, val_mae, \".-\", label=\"val MAE\")\n",
    "ax[0].axhline(mean_absolute_error(x_val_pred, val.fullPrice), color=\"black\", alpha=0.5, label=\"1st Tree MAE\")\n",
    "ax[0].set_xlabel(\"Depth\")\n",
    "ax[0].set_ylabel(\"MAE\")\n",
    "ax[0].set_title(\"Depth vs MAE\")\n",
    "ax[0].legend()\n",
    "ax[0].grid()\n",
    "\n",
    "ax[1].plot(depths, train_mse, \".-\", label=\"sub MSE\")\n",
    "ax[1].plot(depths, val_mse, \".-\", label=\"val MSE\")\n",
    "ax[1].axhline(mean_squared_error(x_val_pred, val.fullPrice), color=\"black\", alpha=0.5, label=\"1st Tree MSE\")\n",
    "ax[1].set_xlabel(\"Depth\")\n",
    "ax[1].set_ylabel(\"MSE\")\n",
    "ax[1].set_title(\"Depth vs MSE\")\n",
    "ax[1].legend()\n",
    "ax[1].grid()"
   ]
  },
  {
   "cell_type": "markdown",
   "id": "ea6abeba",
   "metadata": {},
   "source": [
    "We observe even for small depths there is performance improvement. There is opportunity to apply boosting to our models."
   ]
  },
  {
   "cell_type": "markdown",
   "id": "494e963f",
   "metadata": {},
   "source": [
    "---"
   ]
  },
  {
   "cell_type": "markdown",
   "id": "2fe4a25a",
   "metadata": {},
   "source": [
    "<a id=\"part7\"></a>\n",
    "## STEP 7: Predicting color-FullPrice"
   ]
  },
  {
   "cell_type": "markdown",
   "id": "2b5deeed",
   "metadata": {},
   "source": [
    "### Using same predictors to predict color-FullPrice"
   ]
  },
  {
   "cell_type": "code",
   "execution_count": 56,
   "id": "23283278",
   "metadata": {},
   "outputs": [
    {
     "name": "stdout",
     "output_type": "stream",
     "text": [
      "Val MAE: 5.905783646482276\n",
      "Val MSE 160.6909058801566\n"
     ]
    }
   ],
   "source": [
    "rfr = RandomForestRegressor(n_estimators=100, max_depth=45)\n",
    "rfr.fit(sub[subset_cols], sub[\"color-FullPrice\"])\n",
    "\n",
    "x_sub_pred = rfr.predict(sub[subset_cols])\n",
    "x_val_pred = rfr.predict(val[subset_cols])\n",
    "\n",
    "print(\"Val MAE:\", mean_absolute_error(x_val_pred, val[\"color-FullPrice\"]))\n",
    "print(\"Val MSE\", mean_squared_error(x_val_pred, val[\"color-FullPrice\"]))"
   ]
  },
  {
   "cell_type": "markdown",
   "id": "8938598b",
   "metadata": {},
   "source": [
    "---"
   ]
  },
  {
   "cell_type": "markdown",
   "id": "45948448",
   "metadata": {},
   "source": [
    "### Adding color-Description text to predictors"
   ]
  },
  {
   "cell_type": "code",
   "execution_count": 57,
   "id": "201a17ee",
   "metadata": {},
   "outputs": [],
   "source": [
    "# TopColor doesnt make any sense\n",
    "# We dont want to include ANY pricing information\n",
    "# We dont want to include ANY information collected after the release of the shoe\n",
    "\n",
    "text_cats = [\"title\", \"subtitle\", \"short_description\", \"color-Description\"]\n",
    "text_cols = [word for cat in text_cats for word in select_text(cat, df)]\n",
    "ctgr_cats = [\"category\", \"subcategory\", \"channel\"]\n",
    "ctgr_cols = [word for cat in ctgr_cats for word in select_text(cat, df)]\n",
    "othr_cols = [\"colorNum\",\"Sustainable\"]\n",
    "\n",
    "new_subset_cols = text_cols + ctgr_cols + othr_cols"
   ]
  },
  {
   "cell_type": "code",
   "execution_count": 58,
   "id": "78b84a84",
   "metadata": {},
   "outputs": [
    {
     "name": "stdout",
     "output_type": "stream",
     "text": [
      "Val MAE: 6.067079929133523\n",
      "Val MSE 157.77115513578002\n"
     ]
    }
   ],
   "source": [
    "rfr = RandomForestRegressor(n_estimators=100, max_depth=45)\n",
    "rfr.fit(sub[new_subset_cols], sub[\"color-FullPrice\"])\n",
    "\n",
    "x_sub_pred = rfr.predict(sub[new_subset_cols])\n",
    "x_val_pred = rfr.predict(val[new_subset_cols])\n",
    "\n",
    "print(\"Val MAE:\", mean_absolute_error(x_val_pred, val[\"color-FullPrice\"]))\n",
    "print(\"Val MSE\", mean_squared_error(x_val_pred, val[\"color-FullPrice\"]))"
   ]
  },
  {
   "cell_type": "markdown",
   "id": "3f6a5c2d",
   "metadata": {},
   "source": [
    "Adding color-specific text did not improve predictions."
   ]
  },
  {
   "cell_type": "markdown",
   "id": "aa604128",
   "metadata": {},
   "source": [
    "---"
   ]
  },
  {
   "cell_type": "markdown",
   "id": "daf2cb27",
   "metadata": {},
   "source": [
    "### Adding previous predictions for fullPrice (model stacking)"
   ]
  },
  {
   "cell_type": "markdown",
   "id": "3cca90a3",
   "metadata": {},
   "source": [
    "#### Train our model for fullPrice"
   ]
  },
  {
   "cell_type": "code",
   "execution_count": 59,
   "id": "5c55a127",
   "metadata": {},
   "outputs": [],
   "source": [
    "rfr = RandomForestRegressor(n_estimators=100, max_depth=45)\n",
    "rfr.fit(sub[subset_cols], sub.fullPrice)\n",
    "\n",
    "x_sub_pred = rfr.predict(sub[subset_cols])\n",
    "x_val_pred = rfr.predict(val[subset_cols])"
   ]
  },
  {
   "cell_type": "markdown",
   "id": "4c787efa",
   "metadata": {},
   "source": [
    "#### Combine predictions for fullPrice with sub/val sets"
   ]
  },
  {
   "cell_type": "code",
   "execution_count": 60,
   "id": "1aab5608",
   "metadata": {},
   "outputs": [],
   "source": [
    "sub_stack = pd.concat([\n",
    "    sub, \n",
    "    pd.DataFrame(x_sub_pred, columns=[\"pred\"], index=sub.index),\n",
    "], axis=1)\n",
    "\n",
    "val_stack = pd.concat([\n",
    "    val, \n",
    "    pd.DataFrame(x_val_pred, columns=[\"pred\"], index=val.index),\n",
    "], axis=1)"
   ]
  },
  {
   "cell_type": "markdown",
   "id": "8e6bf6cf",
   "metadata": {},
   "source": [
    "#### Predict color-FullPrice using our new predictor"
   ]
  },
  {
   "cell_type": "code",
   "execution_count": 61,
   "id": "e2320603",
   "metadata": {},
   "outputs": [
    {
     "name": "stdout",
     "output_type": "stream",
     "text": [
      "Val MAE: 4.719297380506827\n",
      "Val MSE: 119.01962776788191\n"
     ]
    }
   ],
   "source": [
    "rfr = RandomForestRegressor(n_estimators=100, max_depth=45)\n",
    "rfr.fit(sub_stack[subset_cols + [\"pred\"]], sub[\"color-FullPrice\"])\n",
    "\n",
    "x_sub_pred_stack = rfr.predict(sub_stack[subset_cols + [\"pred\"]])\n",
    "x_val_pred_stack = rfr.predict(val_stack[subset_cols + [\"pred\"]])\n",
    "\n",
    "print(\"Val MAE:\", mean_absolute_error(x_val_pred_stack, val[\"color-FullPrice\"]))\n",
    "print(\"Val MSE:\", mean_squared_error(x_val_pred_stack, val[\"color-FullPrice\"]))"
   ]
  },
  {
   "cell_type": "markdown",
   "id": "91aff5ad",
   "metadata": {},
   "source": [
    "We observe stacking improves the model performance."
   ]
  },
  {
   "cell_type": "markdown",
   "id": "54bc928d",
   "metadata": {},
   "source": [
    "---"
   ]
  },
  {
   "cell_type": "markdown",
   "id": "6dab4e15",
   "metadata": {},
   "source": [
    "<a id=\"part8\"></a>\n",
    "## STEP 8: Naive Feature Reduction"
   ]
  },
  {
   "cell_type": "markdown",
   "id": "136545ea",
   "metadata": {},
   "source": [
    "There is an obvious issue where it takes a long time to train models since the feature space is so large and it is unclear which features are impactful. We could peak at the RandomForest feature importance to get an idea; however, it changes quite often. We can try to train trees on fewer features and see if there is significant change in model performance."
   ]
  },
  {
   "cell_type": "markdown",
   "id": "972ba1df",
   "metadata": {},
   "source": [
    "### Rank Feature Importance"
   ]
  },
  {
   "cell_type": "code",
   "execution_count": 62,
   "id": "f572dbea",
   "metadata": {},
   "outputs": [
    {
     "data": {
      "text/plain": [
       "RandomForestRegressor(max_depth=45)"
      ]
     },
     "execution_count": 62,
     "metadata": {},
     "output_type": "execute_result"
    }
   ],
   "source": [
    "rfr = RandomForestRegressor(n_estimators=100, max_depth=45)\n",
    "rfr.fit(sub[subset_cols], sub[\"color-FullPrice\"])"
   ]
  },
  {
   "cell_type": "code",
   "execution_count": 63,
   "id": "bb5fd787",
   "metadata": {},
   "outputs": [
    {
     "data": {
      "text/plain": [
       "title_air           0.166515\n",
       "subtitle_kids       0.087866\n",
       "subtitle_toddler    0.069904\n",
       "subtitle_slides     0.028250\n",
       "title_vaporfly      0.027840\n",
       "dtype: float64"
      ]
     },
     "execution_count": 63,
     "metadata": {},
     "output_type": "execute_result"
    }
   ],
   "source": [
    "feature_rank = pd.Series(rfr.feature_importances_, index=subset_cols).sort_values(ascending=False)\n",
    "feature_rank.head()"
   ]
  },
  {
   "cell_type": "code",
   "execution_count": 64,
   "id": "29c3be3c",
   "metadata": {},
   "outputs": [
    {
     "name": "stderr",
     "output_type": "stream",
     "text": [
      "  9%|▉         | 1/11 [00:00<00:01,  8.33it/s]"
     ]
    },
    {
     "name": "stdout",
     "output_type": "stream",
     "text": [
      "1 MAE: 33.933656454182845\n"
     ]
    },
    {
     "name": "stderr",
     "output_type": "stream",
     "text": [
      " 18%|█▊        | 2/11 [00:07<00:20,  2.29s/it]"
     ]
    },
    {
     "name": "stdout",
     "output_type": "stream",
     "text": [
      "501 MAE: 5.400834427188646\n"
     ]
    },
    {
     "name": "stderr",
     "output_type": "stream",
     "text": [
      " 27%|██▋       | 3/11 [00:22<00:48,  6.10s/it]"
     ]
    },
    {
     "name": "stdout",
     "output_type": "stream",
     "text": [
      "1001 MAE: 5.3533239518769316\n"
     ]
    },
    {
     "name": "stderr",
     "output_type": "stream",
     "text": [
      " 36%|███▋      | 4/11 [00:45<01:17, 11.11s/it]"
     ]
    },
    {
     "name": "stdout",
     "output_type": "stream",
     "text": [
      "1501 MAE: 5.143212596745694\n"
     ]
    },
    {
     "name": "stderr",
     "output_type": "stream",
     "text": [
      " 45%|████▌     | 5/11 [01:13<01:38, 16.35s/it]"
     ]
    },
    {
     "name": "stdout",
     "output_type": "stream",
     "text": [
      "2001 MAE: 5.244988728404989\n"
     ]
    },
    {
     "name": "stderr",
     "output_type": "stream",
     "text": [
      " 55%|█████▍    | 6/11 [02:25<02:44, 32.83s/it]"
     ]
    },
    {
     "name": "stdout",
     "output_type": "stream",
     "text": [
      "2501 MAE: 5.214464294644075\n"
     ]
    },
    {
     "name": "stderr",
     "output_type": "stream",
     "text": [
      " 64%|██████▎   | 7/11 [03:05<02:20, 35.24s/it]"
     ]
    },
    {
     "name": "stdout",
     "output_type": "stream",
     "text": [
      "3001 MAE: 5.4204956465246825\n"
     ]
    },
    {
     "name": "stderr",
     "output_type": "stream",
     "text": [
      " 73%|███████▎  | 8/11 [03:50<01:53, 37.90s/it]"
     ]
    },
    {
     "name": "stdout",
     "output_type": "stream",
     "text": [
      "3501 MAE: 5.274139507881064\n"
     ]
    },
    {
     "name": "stderr",
     "output_type": "stream",
     "text": [
      " 82%|████████▏ | 9/11 [04:41<01:23, 41.88s/it]"
     ]
    },
    {
     "name": "stdout",
     "output_type": "stream",
     "text": [
      "4001 MAE: 5.191130004715895\n"
     ]
    },
    {
     "name": "stderr",
     "output_type": "stream",
     "text": [
      " 91%|█████████ | 10/11 [05:36<00:45, 45.97s/it]"
     ]
    },
    {
     "name": "stdout",
     "output_type": "stream",
     "text": [
      "4501 MAE: 5.266855407616357\n"
     ]
    },
    {
     "name": "stderr",
     "output_type": "stream",
     "text": [
      "100%|██████████| 11/11 [06:34<00:00, 35.89s/it]"
     ]
    },
    {
     "name": "stdout",
     "output_type": "stream",
     "text": [
      "5001 MAE: 5.135795042567676\n"
     ]
    },
    {
     "name": "stderr",
     "output_type": "stream",
     "text": [
      "\n"
     ]
    }
   ],
   "source": [
    "train_mae = []\n",
    "train_mse = []\n",
    "val_mae = []\n",
    "val_mse = []\n",
    "\n",
    "for i in tqdm(range(1, len(feature_rank), 500)):\n",
    "    sub_cols = feature_rank[:i].index.to_list()\n",
    "    rfr = RandomForestRegressor(n_estimators=100, max_depth=40)\n",
    "    rfr.fit(sub[sub_cols], sub.fullPrice)\n",
    "    \n",
    "    x_sub_pred = rfr.predict(sub[sub_cols])\n",
    "    x_val_pred = rfr.predict(val[sub_cols])\n",
    "    \n",
    "    train_mae.append(mean_absolute_error(x_sub_pred, sub.fullPrice))\n",
    "    train_mse.append(mean_squared_error(x_sub_pred, sub.fullPrice))\n",
    "    val_mae.append(mean_absolute_error(x_val_pred, val.fullPrice))\n",
    "    val_mse.append(mean_squared_error(x_val_pred, val.fullPrice))\n",
    "    \n",
    "    print(i, \"MAE:\", val_mae[-1])"
   ]
  },
  {
   "cell_type": "code",
   "execution_count": 65,
   "id": "be0a051c",
   "metadata": {},
   "outputs": [
    {
     "data": {
      "text/plain": [
       "<matplotlib.legend.Legend at 0x7feea0809a90>"
      ]
     },
     "execution_count": 65,
     "metadata": {},
     "output_type": "execute_result"
    },
    {
     "data": {
      "image/png": "[encoded data removed]",
      "text/plain": [
       "<Figure size 432x288 with 1 Axes>"
      ]
     },
     "metadata": {
      "needs_background": "light"
     },
     "output_type": "display_data"
    }
   ],
   "source": [
    "plt.plot(\n",
    "    list(range(500, len(feature_rank), 500)),\n",
    "    val_mae[1:], \".-\", label=\"val MAE\"\n",
    ")\n",
    "plt.plot(\n",
    "    list(range(500, len(feature_rank), 500)),\n",
    "    train_mae[1:], \".-\", label=\"train MAE\"\n",
    ")\n",
    "\n",
    "plt.title(\"MAE of Model Trained on Top-N Tokens\")\n",
    "plt.xlabel(\"Number of Features\")\n",
    "plt.ylabel(\"MAE\")\n",
    "plt.xticks(list(range(500, len(feature_rank), 500)))\n",
    "plt.grid()\n",
    "plt.legend()"
   ]
  },
  {
   "cell_type": "markdown",
   "id": "53a6e1ae",
   "metadata": {},
   "source": [
    "This naive approach may hint at something interesting: the first few hundred features could be sufficient for modeling."
   ]
  },
  {
   "cell_type": "markdown",
   "id": "699c1b63",
   "metadata": {},
   "source": [
    "### Another technique to  try to understand overall category importance is stepwise forward selection"
   ]
  },
  {
   "cell_type": "code",
   "execution_count": 66,
   "id": "df486e5a",
   "metadata": {},
   "outputs": [],
   "source": [
    "# There are 9 main variables in our X which are a mixture of text, categorical, numerical, and boolean.\n",
    "# We will try to use some naive form of forward stepwise selection\n",
    "\n",
    "column_map = {\n",
    "    \"title\" : select_text(\"title\", df),\n",
    "    \"subtitle\" : select_text(\"subtitle\", df),\n",
    "    \"short_description\" : select_text(\"short_description\", df),\n",
    "    \"category\" : select_text(\"category\", df),\n",
    "    \"subcategory\" : select_text(\"subcategory\", df),\n",
    "    \"channel\" : select_text(\"channel\", df),\n",
    "    \"colorNum\" : [\"colorNum\"],\n",
    "    \"Sustainable\": [\"Sustainable\"],\n",
    "}\n",
    "\n",
    "remaining = column_map.copy()"
   ]
  },
  {
   "cell_type": "code",
   "execution_count": 67,
   "id": "3d97b58a",
   "metadata": {},
   "outputs": [
    {
     "name": "stderr",
     "output_type": "stream",
     "text": [
      "100%|██████████| 8/8 [00:57<00:00,  7.24s/it]\n",
      "  0%|          | 0/7 [00:00<?, ?it/s]"
     ]
    },
    {
     "name": "stdout",
     "output_type": "stream",
     "text": [
      "['short_description'] | MAE: 7.680897109699776 | MSE: 365.1189268276158\n"
     ]
    },
    {
     "name": "stderr",
     "output_type": "stream",
     "text": [
      "100%|██████████| 7/7 [05:57<00:00, 51.02s/it]\n",
      "  0%|          | 0/6 [00:00<?, ?it/s]"
     ]
    },
    {
     "name": "stdout",
     "output_type": "stream",
     "text": [
      "['short_description', 'subtitle'] | MAE: 6.299967513180774 | MSE: 254.16191206122622\n"
     ]
    },
    {
     "name": "stderr",
     "output_type": "stream",
     "text": [
      "100%|██████████| 6/6 [05:10<00:00, 51.73s/it]\n",
      "  0%|          | 0/5 [00:00<?, ?it/s]"
     ]
    },
    {
     "name": "stdout",
     "output_type": "stream",
     "text": [
      "['short_description', 'subtitle', 'title'] | MAE: 5.061275260465049 | MSE: 143.01975659539121\n"
     ]
    },
    {
     "name": "stderr",
     "output_type": "stream",
     "text": [
      "100%|██████████| 5/5 [04:35<00:00, 55.01s/it]\n",
      "  0%|          | 0/4 [00:00<?, ?it/s]"
     ]
    },
    {
     "name": "stdout",
     "output_type": "stream",
     "text": [
      "['short_description', 'subtitle', 'title', 'category'] | MAE: 4.969454269981004 | MSE: 137.12731122369522\n"
     ]
    },
    {
     "name": "stderr",
     "output_type": "stream",
     "text": [
      "100%|██████████| 4/4 [03:42<00:00, 55.56s/it]\n",
      "  0%|          | 0/3 [00:00<?, ?it/s]"
     ]
    },
    {
     "name": "stdout",
     "output_type": "stream",
     "text": [
      "['short_description', 'subtitle', 'title', 'category', 'colorNum'] | MAE: 5.0291244314582695 | MSE: 138.71418260779475\n"
     ]
    },
    {
     "name": "stderr",
     "output_type": "stream",
     "text": [
      "100%|██████████| 3/3 [02:47<00:00, 55.93s/it]\n",
      "  0%|          | 0/2 [00:00<?, ?it/s]"
     ]
    },
    {
     "name": "stdout",
     "output_type": "stream",
     "text": [
      "['short_description', 'subtitle', 'title', 'category', 'colorNum', 'Sustainable'] | MAE: 5.012882659298482 | MSE: 132.43068206430283\n"
     ]
    },
    {
     "name": "stderr",
     "output_type": "stream",
     "text": [
      "100%|██████████| 2/2 [01:51<00:00, 55.63s/it]\n",
      "  0%|          | 0/1 [00:00<?, ?it/s]"
     ]
    },
    {
     "name": "stdout",
     "output_type": "stream",
     "text": [
      "['short_description', 'subtitle', 'title', 'category', 'colorNum', 'Sustainable', 'subcategory'] | MAE: 4.961228676604332 | MSE: 131.29107182092187\n"
     ]
    },
    {
     "name": "stderr",
     "output_type": "stream",
     "text": [
      "100%|██████████| 1/1 [00:55<00:00, 55.77s/it]"
     ]
    },
    {
     "name": "stdout",
     "output_type": "stream",
     "text": [
      "['short_description', 'subtitle', 'title', 'category', 'colorNum', 'Sustainable', 'subcategory', 'channel'] | MAE: 5.068933661264451 | MSE: 134.033553783494\n"
     ]
    },
    {
     "name": "stderr",
     "output_type": "stream",
     "text": [
      "\n"
     ]
    }
   ],
   "source": [
    "cum_mae, cum_mse = [], []\n",
    "keep = []\n",
    "keep_cols = {}\n",
    "\n",
    "# Iterate until all column types consumed\n",
    "for iteration in range(len(column_map.keys())):\n",
    "    column_mae, column_mse = {}, {}\n",
    "    for column_type, csubset in tqdm(remaining.items()):\n",
    "        csubset = csubset + [c for k, v in keep_cols.items() for c in v]\n",
    "        \n",
    "        rfr = RandomForestRegressor(n_estimators=100, max_depth=45)\n",
    "        rfr.fit(sub[csubset], sub.fullPrice)\n",
    "\n",
    "        x_train_pred = rfr.predict(sub[csubset])\n",
    "        x_test_pred = rfr.predict(val[csubset])\n",
    "\n",
    "        column_mae[column_type] = mean_absolute_error(x_test_pred, val.fullPrice)\n",
    "        column_mse[column_type] = mean_squared_error(x_test_pred, val.fullPrice)\n",
    "\n",
    "    best = sorted(column_mae, key=lambda x: column_mae[x])[0]\n",
    "    keep.append(best)\n",
    "    keep_cols[best] = remaining.pop(best)\n",
    "    cum_mae.append(column_mae[best])\n",
    "    cum_mse.append(column_mse[best])\n",
    "    \n",
    "    print(f\"{keep} | MAE: {cum_mae[-1]} | MSE: {cum_mse[-1]}\")"
   ]
  },
  {
   "cell_type": "code",
   "execution_count": 68,
   "id": "ea4a4913",
   "metadata": {},
   "outputs": [
    {
     "data": {
      "text/plain": [
       "Text(0, 0.5, 'MAE')"
      ]
     },
     "execution_count": 68,
     "metadata": {},
     "output_type": "execute_result"
    },
    {
     "data": {
      "image/png": "[encoded data removed]",
      "text/plain": [
       "<Figure size 432x288 with 1 Axes>"
      ]
     },
     "metadata": {
      "needs_background": "light"
     },
     "output_type": "display_data"
    }
   ],
   "source": [
    "plt.plot(range(1, 9), cum_mae, \".-\")\n",
    "plt.grid()\n",
    "plt.title(\"Number of Predictors vs MAE\")\n",
    "plt.xlabel(\"Number of Predictors\")\n",
    "plt.ylabel(\"MAE\")"
   ]
  },
  {
   "cell_type": "markdown",
   "id": "8c5942ba",
   "metadata": {},
   "source": [
    "Another interesting observation: the most important categories of features are all text!"
   ]
  },
  {
   "cell_type": "markdown",
   "id": "5c13602f",
   "metadata": {},
   "source": [
    "---"
   ]
  }
 ],
 "metadata": {
  "kernelspec": {
   "display_name": "Python 3 (ipykernel)",
   "language": "python",
   "name": "python3"
  },
  "language_info": {
   "codemirror_mode": {
    "name": "ipython",
    "version": 3
   },
   "file_extension": ".py",
   "mimetype": "text/x-python",
   "name": "python",
   "nbconvert_exporter": "python",
   "pygments_lexer": "ipython3",
   "version": "3.10.8"
  }
 },
 "nbformat": 4,
 "nbformat_minor": 5
}
